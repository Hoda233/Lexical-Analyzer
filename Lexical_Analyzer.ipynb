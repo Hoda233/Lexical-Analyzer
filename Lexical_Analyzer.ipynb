{
 "cells": [
  {
   "cell_type": "markdown",
   "metadata": {},
   "source": [
    "## imports"
   ]
  },
  {
   "cell_type": "code",
   "execution_count": 161,
   "metadata": {},
   "outputs": [],
   "source": [
    "import re\n",
    "import json\n",
    "\n",
    "alphanumeric='abcdefghijklmnopqrstuvwxyzABCDEFGHIJKLMNOPQRSTUVWXYZ0123456789'\n",
    "dot =  '('+('|'.join(alphanumeric))+')'\n",
    "\n",
    "# print(dot)\n"
   ]
  },
  {
   "cell_type": "markdown",
   "metadata": {},
   "source": [
    "# Regex to Postfix"
   ]
  },
  {
   "cell_type": "code",
   "execution_count": 162,
   "metadata": {},
   "outputs": [
    {
     "name": "stdout",
     "output_type": "stream",
     "text": [
      "(a|b|c|d|e|f|g|h|i|j|k|l|m|n|o|p|q|r|s|t|u|v|w|x|y|z|A|B|C|D|E|F|G|H|I|J|K|L|M|N|O|P|Q|R|S|T|U|V|W|X|Y|Z|0|1|2|3|4|5|6|7|8|9)\n",
      "(a|b|c|d|e|f|g|h|i|j|k|l|m|n|o|p|q|r|s|t|u|v|w|x|y|z|A|B|C|D|E|F|G|H|I|J|K|L|M|N|O|P|Q|R|S|T|U|V|W|X|Y|Z|0|1|2|3|4|5|6|7|8|9)\n",
      "(a|b|c|d|e|f|g|h|i|j|k|l|m|n|o|p|q|r|s|t|u|v|w|x|y|z|A|B|C|D|E|F|G|H|I|J|K|L|M|N|O|P|Q|R|S|T|U|V|W|X|Y|Z|0|1|2|3|4|5|6|7|8|9)\n",
      "ab|c|d|e|f|g|h|i|j|k|l|m|n|o|p|q|r|s|t|u|v|w|x|y|z|A|B|C|D|E|F|G|H|I|J|K|L|M|N|O|P|Q|R|S|T|U|V|W|X|Y|Z|0|1|2|3|4|5|6|7|8|9|\n",
      "ab|c|d|e|f|g|h|i|j|k|l|m|n|o|p|q|r|s|t|u|v|w|x|y|z|A|B|C|D|E|F|G|H|I|J|K|L|M|N|O|P|Q|R|S|T|U|V|W|X|Y|Z|0|1|2|3|4|5|6|7|8|9|\n"
     ]
    }
   ],
   "source": [
    "# def validate_regex(regex):\n",
    "#     try:\n",
    "#        re.compile(regex)\n",
    "#        return True\n",
    "#     except:\n",
    "#        return False \n",
    "    \n",
    "def get_next_char(text, index):\n",
    "    if index < len(text) - 1:\n",
    "        return text[index + 1]\n",
    "    else:\n",
    "        # Handle the case where the index is out of range\n",
    "        # You can choose to return None or raise an exception, depending on your requirements\n",
    "        return None\n",
    "\n",
    "def get_previous_char(text, index):\n",
    "    if index > 0:\n",
    "        return text[index - 1]\n",
    "    else:\n",
    "        return None\n",
    "    \n",
    "def validate_regex(regex):\n",
    "    stack = []\n",
    "    opening_chars = \"([{\"\n",
    "    closing_chars = \")]}\"\n",
    "    pair_map = {\")\": \"(\", \"]\": \"[\", \"}\": \"{\"}\n",
    "    is_range = False\n",
    "    prev_char = None\n",
    "    for index,char in enumerate(regex):\n",
    "        if char.isalnum() or char  in (\".+*?|-\") or char in opening_chars or char in closing_chars :\n",
    "                    if char in (\"+?\") and ( get_previous_char(regex,index) is  None or  not  (get_previous_char(regex,index).isalnum() or get_previous_char(regex,index) in (')]}.?+*') )):\n",
    "                        return False\n",
    "                    if char in (\"*\") and ( get_previous_char(regex,index) is  None or  not  (get_previous_char(regex,index).isalnum() or get_previous_char(regex,index) in (')]}.') )):\n",
    "                        return False\n",
    "                    if char in (\"|\") and (( get_previous_char(regex,index)  is  None or  not  (get_previous_char(regex,index).isalnum() or get_previous_char(regex,index)  in ('.+*?})]'))) or (get_next_char(regex, index) is  None or  not  ( get_next_char(regex, index).isalnum() or get_next_char(regex, index)  in ('.+*?[{(') ))):\n",
    "                        return False\n",
    "                    if is_range and prev_char is not None and prev_char != \"-\" and char != \"-\":\n",
    "                        if char == \"]\" or ord(prev_char) >= ord(char) or prev_char == \"[\" or (prev_char.isupper() and not char.isupper()):\n",
    "                            return False\n",
    "                    prev_char=char\n",
    "                    if char in opening_chars:\n",
    "                        stack.append(char)\n",
    "                    elif char in closing_chars:\n",
    "                        if len(stack) == 0 or stack[-1] != pair_map[char]:\n",
    "                            return False\n",
    "                        stack.pop()\n",
    "                    elif char == \"-\":\n",
    "                        if stack[-1] != '[':\n",
    "                            return False\n",
    "                        is_range = True\n",
    "                        prev_char = regex[index-1]\n",
    "                    else:\n",
    "                        is_range = False\n",
    "\n",
    "                    if char in (\"+*?|()\") and (len(stack) >0 and stack[-1] == '['):\n",
    "                        return False\n",
    "                    if (char == ']' and get_previous_char(regex, index) == '[') or (char == ')' and get_previous_char(regex, index) == '('):\n",
    "                        return False\n",
    "        else :\n",
    "            return False    \n",
    "    return len(stack) == 0  \n",
    "\n",
    "\n",
    "\n",
    "def handle_dot(regex):\n",
    "   return re.sub(r'\\.', dot, regex)\n",
    "\n",
    "def handle_range(regex):\n",
    "    new_regex = \"\"\n",
    "    replace = False\n",
    "    start = None\n",
    "    end= None\n",
    "    for i in range(len(regex)):\n",
    "        if regex[i] == '[':\n",
    "            new_regex += '('\n",
    "            replace =True\n",
    "        elif regex[i]== ']':\n",
    "             new_regex += ')'\n",
    "             replace =False\n",
    "        elif regex[i] == '-':\n",
    "            replace = True\n",
    "            start = alphanumeric.index(regex[i-1])\n",
    "            end = alphanumeric.index(regex[i+1])\n",
    "            for j in range(start+1,end):\n",
    "                new_regex += alphanumeric[j]\n",
    "                if(replace and regex[i+1] != ']'):\n",
    "                    new_regex+='|'\n",
    "        else:\n",
    "           new_regex += regex[i] \n",
    "           if(replace and regex[i+1] != ']'):\n",
    "                    new_regex+='|'\n",
    "\n",
    "\n",
    "    return new_regex  \n",
    "\n",
    "\n",
    "def concatenate(regex):\n",
    "    new_regex = \"\"\n",
    "    for i in range(len(regex)-1):\n",
    "        new_regex += regex[i] \n",
    "        if regex[i] in ['*','+','?',')',']'] and regex[i+1] not in ['*','+','?',')',']','.', '|']:\n",
    "            new_regex+=\".\"\n",
    "        elif regex[i] in alphanumeric and  (regex[i+1] in alphanumeric or regex[i+1] in ['(','[']):\n",
    "            new_regex+=\".\"\n",
    "    \n",
    "    new_regex += regex[-1]\n",
    "\n",
    "    return new_regex\n",
    "\n",
    "def infix_to_postfix(regex):\n",
    "    queue = []\n",
    "    stack = []\n",
    "    operators={'(':0,\"|\":1, \".\":2, \"?\":3, \"+\":4, \"*\":5}\n",
    "\n",
    "    for i in range(len(regex)):\n",
    "        if regex[i] == '(':\n",
    "            stack.append(regex[i])\n",
    "        elif regex[i] == ')':\n",
    "            while stack[-1] != \"(\":  \n",
    "                queue.append(stack.pop()) \n",
    "            stack.pop()     \n",
    "        elif regex[i] in operators:\n",
    "            while stack  and operators[regex[i]] <= operators[stack[-1]]:\n",
    "                queue.append(stack.pop())\n",
    "            stack.append(regex[i])\n",
    "\n",
    "        else :\n",
    "            queue.append(regex[i])    \n",
    "    \n",
    "    while stack:\n",
    "        queue.append(stack.pop())\n",
    "\n",
    "    return ''.join(queue  )  \n",
    "\n",
    "\n",
    "def to_postfix(regex):\n",
    "    if(validate_regex(regex)):\n",
    "       regex = handle_dot(regex)\n",
    "       print(regex)\n",
    "       regex = handle_range(regex)\n",
    "       print(regex)\n",
    "       regex = concatenate(regex)\n",
    "       print(regex)\n",
    "       regex = infix_to_postfix(regex)\n",
    "       print(regex)\n",
    "\n",
    "       return regex\n",
    "\n",
    "\n",
    "    else:\n",
    "        print('sorry you have entered invalid regex! ')    \n",
    "\n",
    "\n",
    "    \n",
    "\n",
    "# print(handle_dot('ab.c'))\n",
    "# print(handle_range(\"[a-z]+abc[Abc]*[1-5]\"))\n",
    "# print(concatenate(\"a+b*|c(5.f)\"))\n",
    "# print(infix_to_postfix(\"(A+.B*)?.(C|D)\"))\n",
    "print(to_postfix(\".\"))        \n"
   ]
  },
  {
   "cell_type": "markdown",
   "metadata": {},
   "source": [
    "# Postfix to NFA"
   ]
  },
  {
   "cell_type": "code",
   "execution_count": 163,
   "metadata": {},
   "outputs": [],
   "source": [
    "class edge:\n",
    "    def __init__(self):\n",
    "       self.label=None\n",
    "       self.destination=None\n",
    "\n",
    "\n",
    "class state:\n",
    "       def __init__(self):\n",
    "        self.label=None\n",
    "        self.outgoing_edges=[]\n",
    "\n",
    "\n",
    "\n",
    "\n",
    "class NFA:    \n",
    "       def __init__(self, start, accept,states):\n",
    "        self.start_state = start\n",
    "        self.acceptance_state = accept\n",
    "        self.states = states\n",
    "        \n",
    "\n",
    "def construct_nfa (label, id, stack):\n",
    "    start = state()\n",
    "    acceptance = state()\n",
    "    start.label = \"S\"+str(id)\n",
    "    acceptance.label = \"S\"+str(id+1)\n",
    "\n",
    "    Edge = edge()\n",
    "    Edge.label = label\n",
    "    Edge.destination = acceptance \n",
    "    start.outgoing_edges.append(Edge)\n",
    "\n",
    "    result_nfa = NFA(start, acceptance, [start,acceptance])\n",
    "    stack.append(result_nfa)\n",
    "    #print(result_nfa.inner_states)\n",
    "\n",
    "    return result_nfa, id+2\n",
    "\n",
    "\n",
    "def nfa_concatination (stack):\n",
    "   \n",
    "    \n",
    "    nfa2 = stack.pop()\n",
    "    nfa1 = stack.pop()\n",
    "\n",
    "\n",
    "    Edge = edge()\n",
    "    Edge.label = 'ε'\n",
    "    Edge.destination = nfa2.start_state\n",
    "    nfa1.acceptance_state.outgoing_edges.append(Edge)\n",
    "\n",
    "    #print(nfa1)\n",
    "    #print(nfa1.inner_states)\n",
    "\n",
    "    resultnfa = NFA(nfa1.start_state,  nfa2.acceptance_state, nfa1.states + nfa2.states)\n",
    "    stack.append(resultnfa)\n",
    "    return resultnfa\n",
    "\n",
    "\n",
    "def nfa_or (stack, id):\n",
    "  nfa1 = stack.pop()\n",
    "  nfa2 = stack.pop()\n",
    "  newStart = state()\n",
    "  newStart.label= \"S\"+str(id)\n",
    "  newEnd = state()\n",
    "  newEnd.label = \"S\"+str(id+1)\n",
    "\n",
    "  Edge1 = edge()\n",
    "  Edge1.label = 'ε'\n",
    "  Edge1.destination = nfa1.start_state\n",
    "\n",
    "  Edge2 = edge()\n",
    "  Edge2.label = 'ε'\n",
    "  Edge2.destination = nfa2.start_state\n",
    "\n",
    "  newStart.outgoing_edges.append(Edge1)\n",
    "  newStart.outgoing_edges.append(Edge2)\n",
    "\n",
    "\n",
    "  Edge3 = edge()\n",
    "  Edge3.label = 'ε'\n",
    "  Edge3.destination = newEnd\n",
    "\n",
    "  nfa1.acceptance_state.outgoing_edges.append(Edge3)\n",
    "\n",
    "  Edge4 = edge()\n",
    "  Edge4.label = 'ε'\n",
    "  Edge4.destination = newEnd\n",
    "  nfa2.acceptance_state.outgoing_edges.append(Edge4)\n",
    "\n",
    "\n",
    "  result = NFA(newStart, newEnd, [newStart,newEnd]+ nfa1.states + nfa2.states)\n",
    "  stack.append(result)\n",
    "  return result, id+2\n",
    "\n",
    "\n",
    "\n",
    "def nfa_zero_or_more (stack, id):\n",
    "  nfa1 = stack.pop()\n",
    "\n",
    "\n",
    "\n",
    "  newStart = state()\n",
    "  newStart.label = \"S\"+str(id)\n",
    "  newEnd = state()\n",
    "  newEnd.label = \"S\"+str(id+1)\n",
    "\n",
    "  Edge1 = edge()\n",
    "  Edge1.label = 'ε'\n",
    "  Edge1.destination = newStart\n",
    "  nfa1.acceptance_state.outgoing_edges.append(Edge1)\n",
    "\n",
    "\n",
    "\n",
    "  Edge2 = edge()\n",
    "  Edge2.label = 'ε'\n",
    "  Edge2.destination=nfa1.start_state\n",
    "  newStart.outgoing_edges.append(Edge2)\n",
    "\n",
    "  Edge3 = edge()\n",
    "  Edge3.label = 'ε'\n",
    "  Edge3.destination = newEnd\n",
    "  nfa1.acceptance_state.outgoing_edges.append(Edge3)\n",
    "\n",
    "\n",
    "\n",
    "  Edge4 = edge()\n",
    "  Edge4.label = 'ε'\n",
    "  Edge4.destination = newEnd\n",
    "  newStart.outgoing_edges.append(Edge4)\n",
    "  \n",
    "  result = NFA (newStart, newEnd, [newStart, newEnd] + nfa1.states)\n",
    "  stack.append(result)\n",
    "  return result, id+2\n",
    "\n",
    "\n",
    "def nfa_one_or_more (stack, id):\n",
    "   nfa1 = stack.pop()\n",
    "\n",
    "\n",
    "\n",
    "   newStart = state()\n",
    "   newStart.label = \"S\"+str(id)\n",
    "   newEnd = state()\n",
    "   newEnd.label = \"S\"+str(id+1)\n",
    "\n",
    "   Edge1 = edge()\n",
    "   Edge1.label ='ε'\n",
    "   Edge1.destination = newStart\n",
    "   nfa1.acceptance_state.outgoing_edges.append(Edge1)\n",
    "\n",
    "   Edge2 = edge()\n",
    "   Edge2.label='ε'\n",
    "   Edge2.destination=nfa1.start_state\n",
    "   newStart.outgoing_edges.append(Edge2)\n",
    "\n",
    "   Edge3 = edge()\n",
    "   Edge3.label='ε'\n",
    "   Edge3.destination = newEnd\n",
    "   nfa1.acceptance_state.outgoing_edges.append(Edge3)\n",
    "\n",
    "\n",
    "   result = NFA (newStart, newEnd, [newStart, newEnd] + nfa1.states)\n",
    "   stack.append(result)\n",
    "   return result, id+2\n",
    "\n",
    "def nfa_zero_or_one (stack, id):\n",
    "  nfa1 = stack.pop()\n",
    "\n",
    "  newStart = state()\n",
    "  newStart.label = \"S\"+str(id)\n",
    "  newEnd = state()\n",
    "  newEnd.label = \"S\"+str(id+1)\n",
    "\n",
    "  Edge1 = edge()\n",
    "  Edge1.label='ε'\n",
    "  Edge1.destination=nfa1.start_state\n",
    "  newStart.outgoing_edges.append(Edge1)\n",
    "\n",
    "  Edge2 = edge()\n",
    "  Edge2.label='ε'\n",
    "  Edge2.destination = newEnd\n",
    "  nfa1.acceptance_state.outgoing_edges.append(Edge2)\n",
    "\n",
    "  \n",
    "  Edge2 = edge()\n",
    "  Edge2.label='ε'\n",
    "  Edge2.destination = newEnd\n",
    "  newStart.outgoing_edges.append(Edge2)\n",
    "\n",
    "\n",
    "\n",
    "  result = NFA (newStart, newEnd, [newStart, newEnd] + nfa1.states)\n",
    "  stack.append(result)\n",
    "  return result, id+2\n",
    "\n",
    "def postfix_to_nfa(postfix):\n",
    "     stack = []\n",
    "     id = 1\n",
    "\n",
    "     for i in range(len(postfix)):\n",
    "         if postfix[i] in alphanumeric:\n",
    "           _ ,id =  construct_nfa(postfix[i],id,stack)\n",
    "         elif postfix[i] == '.':   \n",
    "             nfa_concatination(stack) \n",
    "         elif postfix[i] == '|':   \n",
    "            _,id = nfa_or(stack,id)   \n",
    "         elif  postfix[i] == '*':  \n",
    "              _,id = nfa_zero_or_more(stack,id)  \n",
    "         elif  postfix[i] == '+':  \n",
    "              _,id = nfa_one_or_more(stack,id)    \n",
    "         elif  postfix[i] == '?':  \n",
    "               _,id = nfa_zero_or_one(stack,id) \n",
    "         else:\n",
    "              raise ValueError(f\"an invialid operator is entered {postfix[i]}\")   \n",
    "              \n",
    "     result = stack.pop()\n",
    "     return result\n",
    "\n",
    "\n",
    "def convert_nfa_to_dictionary(nefa:NFA):\n",
    "  outputJson = dict()\n",
    "  outputJson[\"startingState\"] = nefa.start_state.label\n",
    "  for stat in nefa.states:\n",
    "    stateDict = dict()\n",
    "    if stat == nefa.acceptance_state:\n",
    "      stateDict[\"isTerminatingState\"] = True\n",
    "    else:\n",
    "      stateDict[\"isTerminatingState\"] = False\n",
    "    for edg in stat.outgoing_edges:\n",
    "      if(edg.label in stateDict.keys()):\n",
    "        stateDict[edg.label] = [] + [stateDict[edg.label]] + [edg.destination.label]\n",
    "      else:\n",
    "        stateDict[edg.label] = edg.destination.label\n",
    "    outputJson[stat.label] = stateDict\n",
    "  return outputJson  \n",
    "\n",
    "    \n",
    "\n",
    "\n",
    "\n",
    "\n",
    "\n",
    "\n",
    "\n",
    "\n"
   ]
  },
  {
   "cell_type": "markdown",
   "metadata": {},
   "source": [
    "# render graph and json"
   ]
  },
  {
   "cell_type": "code",
   "execution_count": 164,
   "metadata": {},
   "outputs": [],
   "source": [
    "from graphviz import Digraph\n",
    "\n",
    "def save_json_file (dict,filename):\n",
    "  \n",
    "    json_object = json.dumps(dict, indent=6,ensure_ascii=False)\n",
    "    with open(filename + \".json\", \"w\", encoding=\"utf-8\") as outfile:\n",
    "        outfile.write(json_object)\n",
    "\n",
    "def render_graph(graph,message,regex,filename, attr):\n",
    "    gra = Digraph(graph_attr={'rankdir':'LR', 'bgcolor': attr[\"bgcolor\"]})\n",
    "    for state in graph:\n",
    "        if state == \"startingState\":\n",
    "            gra.node(state, style='invisible')\n",
    "        else:\n",
    "            shape = \"doublecircle\" if graph[state][\"isTerminatingState\"] else \"circle\"\n",
    "            gra.node(state, shape=shape, style='filled', fillcolor= attr[\"node_fillcolor\"])\n",
    "\n",
    "    for from_state in graph:\n",
    "        if from_state == \"startingState\":\n",
    "            gra.edge(tail_name=from_state, head_name=graph[\"startingState\"], color=attr[\"edge_color\"])\n",
    "            continue\n",
    "\n",
    "        for input in graph[from_state]:\n",
    "            if input == \"isTerminatingState\":\n",
    "                continue\n",
    "            to_states = graph[from_state][input]\n",
    "            if type(to_states) == list:\n",
    "                for to_state in to_states:\n",
    "                    gra.edge(tail_name=from_state, head_name=to_state, label=input, color=attr[\"edge_color\"])\n",
    "            else:\n",
    "                gra.edge(tail_name=from_state, head_name=to_states, label=input, color=attr[\"edge_color\"])\n",
    "\n",
    "    gra.attr(label=message + regex, fontcolor=attr[\"label_fontcolor\"], fontsize=attr[\"label_fontsize\"], fontname='bold')\n",
    "    gra.format= 'png'\n",
    "    gra.render(filename, view=True)\n",
    "\n",
    "graph_attr = { \n",
    "        \"bgcolor\": \"#ffffff\",\n",
    "        \"node_fillcolor\": \"#ffffff\",\n",
    "        \"edge_color\": \"#000000\",\n",
    "        \"label_fontcolor\": \"black\",\n",
    "        \"label_fontsize\": \"20\"\n",
    "        }        "
   ]
  },
  {
   "cell_type": "code",
   "execution_count": 165,
   "metadata": {},
   "outputs": [
    {
     "name": "stdout",
     "output_type": "stream",
     "text": [
      "(a+b)\n",
      "(a+b)\n",
      "(a+.b)\n",
      "a+b.\n"
     ]
    }
   ],
   "source": [
    "postfix = to_postfix(\"(a+b)\")\n",
    "nfa1 = postfix_to_nfa(postfix)\n",
    "nfa_dict = convert_nfa_to_dictionary(nfa1)\n",
    "save_json_file(nfa_dict,\"nfa1\")\n"
   ]
  },
  {
   "cell_type": "markdown",
   "metadata": {},
   "source": [
    "# NFA to DFA"
   ]
  },
  {
   "cell_type": "code",
   "execution_count": 166,
   "metadata": {},
   "outputs": [],
   "source": [
    "def get_epsilon_closure(nfa, input_state):\n",
    "\n",
    "    stack = [input_state]\n",
    "    closure = set()\n",
    "\n",
    "    while stack:\n",
    "\n",
    "        current_state = stack.pop()\n",
    "        closure.add(current_state)\n",
    "\n",
    "        if \"ε\" in nfa[current_state]:\n",
    "\n",
    "            next_states = nfa[current_state][\"ε\"]\n",
    "            if isinstance(next_states, str):\n",
    "                next_states = [next_states]\n",
    "\n",
    "            for state in next_states:\n",
    "                if state not in closure:\n",
    "                    stack.append(state)\n",
    "                    closure.add(state)\n",
    "\n",
    "    return tuple(sorted(closure))\n",
    "\n",
    "def convert_nfa_to_dfa(nfa):\n",
    "\n",
    "    nfa_start_state = nfa[\"startingState\"]\n",
    "    dfa_start_state = get_epsilon_closure(nfa,nfa_start_state)\n",
    "\n",
    "    dfa = {}\n",
    "    dfa[\"startingState\"] = dfa_start_state\n",
    "\n",
    "    stack = [dfa_start_state]\n",
    "\n",
    "    while stack:\n",
    "        current_state = stack.pop()\n",
    "        dfa[current_state] = {}     #current_state = (s0,s1,s2) \n",
    "        dfa[current_state][\"isTerminatingState\"] = False\n",
    "\n",
    "        for state in current_state:\n",
    "            nfa_state = nfa[state]   # nfa_state -> dic of s0 in nfa\n",
    "\n",
    "            for sub_key in nfa_state:\n",
    "\n",
    "                if sub_key == \"isTerminatingState\":\n",
    "                    dfa[current_state][\"isTerminatingState\"] |= nfa_state[\"isTerminatingState\"]\n",
    "\n",
    "                elif sub_key != \"ε\": # edges of s0\n",
    "                    next_states = get_epsilon_closure(nfa,nfa_state[sub_key])\n",
    "                    if sub_key in dfa[current_state]: # if edge already in dfa state\n",
    "                        temp_set= set(dfa[current_state][sub_key])\n",
    "                        temp_set.update(next_states)\n",
    "                        dfa[current_state][sub_key] = tuple(sorted(temp_set))\n",
    "                    else:\n",
    "                        dfa[current_state][sub_key] = next_states\n",
    "        \n",
    "        for new_sub_key in dfa[current_state]:\n",
    "            if new_sub_key != \"isTerminatingState\":\n",
    "                new_added_state = dfa[current_state][new_sub_key]\n",
    "                if new_added_state not in dfa:\n",
    "                    stack.append(new_added_state)\n",
    "\n",
    "    return dfa\n",
    "\n",
    "def get_final_dfa(dfa):\n",
    "\n",
    "    # create a dict for states with their new names\n",
    "    new_states_names = {}\n",
    "    for i,state in enumerate(dfa):\n",
    "        if state != \"startingState\":\n",
    "            new_states_names[state] = \"S\"+str(i-1)\n",
    "    print(new_states_names)\n",
    "\n",
    "    # replace states with their new names\n",
    "    new_dfa = dfa.copy()\n",
    "\n",
    "    for key in dfa:\n",
    "        if key != \"startingState\":\n",
    "\n",
    "            for sub_key in dfa[key]:\n",
    "                if sub_key !=\"isTerminatingState\":\n",
    "                    old_state = dfa[key][sub_key]  #('S1', 'S3')\n",
    "                    new_state = new_states_names[old_state] #'S0'\n",
    "                    new_dfa[key][sub_key] = new_state\n",
    "\n",
    "            old_state = key  #('S1', 'S3')\n",
    "            new_state = new_states_names[old_state] #'S0'\n",
    "            new_dfa[new_state]= new_dfa[old_state]\n",
    "            del new_dfa[key]\n",
    "\n",
    "        else:\n",
    "            old_state = dfa[key]\n",
    "            new_state = new_states_names[old_state]\n",
    "            new_dfa[key] = new_state\n",
    "\n",
    "    return new_dfa"
   ]
  },
  {
   "cell_type": "code",
   "execution_count": 167,
   "metadata": {},
   "outputs": [
    {
     "name": "stdout",
     "output_type": "stream",
     "text": [
      "{'startingState': ('S1', 'S11', 'S13', 'S15', 'S17', 'S19', 'S21', 'S23', 'S25', 'S27', 'S29', 'S3', 'S31', 'S33', 'S35', 'S37', 'S39', 'S41', 'S43', 'S45', 'S47', 'S49', 'S5', 'S51', 'S53', 'S55', 'S57', 'S59', 'S61', 'S7', 'S9'), ('S1', 'S11', 'S13', 'S15', 'S17', 'S19', 'S21', 'S23', 'S25', 'S27', 'S29', 'S3', 'S31', 'S33', 'S35', 'S37', 'S39', 'S41', 'S43', 'S45', 'S47', 'S49', 'S5', 'S51', 'S53', 'S55', 'S57', 'S59', 'S61', 'S7', 'S9'): {'isTerminatingState': False, 'a': ('S10', 'S14', 'S18', 'S2', 'S22', 'S26', 'S30', 'S34', 'S38', 'S42', 'S46', 'S50', 'S54', 'S58', 'S6', 'S62', 'S63'), 'd': ('S12', 'S14', 'S18', 'S22', 'S26', 'S30', 'S34', 'S38', 'S42', 'S46', 'S50', 'S54', 'S58', 'S62', 'S63'), 'e': ('S16', 'S18', 'S22', 'S26', 'S30', 'S34', 'S38', 'S42', 'S46', 'S50', 'S54', 'S58', 'S62', 'S63'), 'f': ('S20', 'S22', 'S26', 'S30', 'S34', 'S38', 'S42', 'S46', 'S50', 'S54', 'S58', 'S62', 'S63'), '0': ('S24', 'S26', 'S30', 'S34', 'S38', 'S42', 'S46', 'S50', 'S54', 'S58', 'S62', 'S63'), '1': ('S28', 'S30', 'S34', 'S38', 'S42', 'S46', 'S50', 'S54', 'S58', 'S62', 'S63'), '2': ('S32', 'S34', 'S38', 'S42', 'S46', 'S50', 'S54', 'S58', 'S62', 'S63'), '3': ('S36', 'S38', 'S42', 'S46', 'S50', 'S54', 'S58', 'S62', 'S63'), '4': ('S40', 'S42', 'S46', 'S50', 'S54', 'S58', 'S62', 'S63'), '5': ('S44', 'S46', 'S50', 'S54', 'S58', 'S62', 'S63'), '6': ('S48', 'S50', 'S54', 'S58', 'S62', 'S63'), '7': ('S52', 'S54', 'S58', 'S62', 'S63'), '8': ('S56', 'S58', 'S62', 'S63'), '9': ('S60', 'S62', 'S63'), 'c': ('S10', 'S14', 'S18', 'S22', 'S26', 'S30', 'S34', 'S38', 'S42', 'S46', 'S50', 'S54', 'S58', 'S62', 'S63', 'S8')}, ('S10', 'S14', 'S18', 'S22', 'S26', 'S30', 'S34', 'S38', 'S42', 'S46', 'S50', 'S54', 'S58', 'S62', 'S63', 'S8'): {'isTerminatingState': False, '3': ('S64', 'S65')}, ('S64', 'S65'): {'isTerminatingState': False, '2': ('S66',)}, ('S66',): {'isTerminatingState': True}, ('S60', 'S62', 'S63'): {'isTerminatingState': False, '3': ('S64', 'S65')}, ('S56', 'S58', 'S62', 'S63'): {'isTerminatingState': False, '3': ('S64', 'S65')}, ('S52', 'S54', 'S58', 'S62', 'S63'): {'isTerminatingState': False, '3': ('S64', 'S65')}, ('S48', 'S50', 'S54', 'S58', 'S62', 'S63'): {'isTerminatingState': False, '3': ('S64', 'S65')}, ('S44', 'S46', 'S50', 'S54', 'S58', 'S62', 'S63'): {'isTerminatingState': False, '3': ('S64', 'S65')}, ('S40', 'S42', 'S46', 'S50', 'S54', 'S58', 'S62', 'S63'): {'isTerminatingState': False, '3': ('S64', 'S65')}, ('S36', 'S38', 'S42', 'S46', 'S50', 'S54', 'S58', 'S62', 'S63'): {'isTerminatingState': False, '3': ('S64', 'S65')}, ('S32', 'S34', 'S38', 'S42', 'S46', 'S50', 'S54', 'S58', 'S62', 'S63'): {'isTerminatingState': False, '3': ('S64', 'S65')}, ('S28', 'S30', 'S34', 'S38', 'S42', 'S46', 'S50', 'S54', 'S58', 'S62', 'S63'): {'isTerminatingState': False, '3': ('S64', 'S65')}, ('S24', 'S26', 'S30', 'S34', 'S38', 'S42', 'S46', 'S50', 'S54', 'S58', 'S62', 'S63'): {'isTerminatingState': False, '3': ('S64', 'S65')}, ('S20', 'S22', 'S26', 'S30', 'S34', 'S38', 'S42', 'S46', 'S50', 'S54', 'S58', 'S62', 'S63'): {'isTerminatingState': False, '3': ('S64', 'S65')}, ('S16', 'S18', 'S22', 'S26', 'S30', 'S34', 'S38', 'S42', 'S46', 'S50', 'S54', 'S58', 'S62', 'S63'): {'isTerminatingState': False, '3': ('S64', 'S65')}, ('S12', 'S14', 'S18', 'S22', 'S26', 'S30', 'S34', 'S38', 'S42', 'S46', 'S50', 'S54', 'S58', 'S62', 'S63'): {'isTerminatingState': False, '3': ('S64', 'S65')}, ('S10', 'S14', 'S18', 'S2', 'S22', 'S26', 'S30', 'S34', 'S38', 'S42', 'S46', 'S50', 'S54', 'S58', 'S6', 'S62', 'S63'): {'isTerminatingState': False, '3': ('S64', 'S65')}}\n",
      "{('S1', 'S11', 'S13', 'S15', 'S17', 'S19', 'S21', 'S23', 'S25', 'S27', 'S29', 'S3', 'S31', 'S33', 'S35', 'S37', 'S39', 'S41', 'S43', 'S45', 'S47', 'S49', 'S5', 'S51', 'S53', 'S55', 'S57', 'S59', 'S61', 'S7', 'S9'): 'S0', ('S10', 'S14', 'S18', 'S22', 'S26', 'S30', 'S34', 'S38', 'S42', 'S46', 'S50', 'S54', 'S58', 'S62', 'S63', 'S8'): 'S1', ('S64', 'S65'): 'S2', ('S66',): 'S3', ('S60', 'S62', 'S63'): 'S4', ('S56', 'S58', 'S62', 'S63'): 'S5', ('S52', 'S54', 'S58', 'S62', 'S63'): 'S6', ('S48', 'S50', 'S54', 'S58', 'S62', 'S63'): 'S7', ('S44', 'S46', 'S50', 'S54', 'S58', 'S62', 'S63'): 'S8', ('S40', 'S42', 'S46', 'S50', 'S54', 'S58', 'S62', 'S63'): 'S9', ('S36', 'S38', 'S42', 'S46', 'S50', 'S54', 'S58', 'S62', 'S63'): 'S10', ('S32', 'S34', 'S38', 'S42', 'S46', 'S50', 'S54', 'S58', 'S62', 'S63'): 'S11', ('S28', 'S30', 'S34', 'S38', 'S42', 'S46', 'S50', 'S54', 'S58', 'S62', 'S63'): 'S12', ('S24', 'S26', 'S30', 'S34', 'S38', 'S42', 'S46', 'S50', 'S54', 'S58', 'S62', 'S63'): 'S13', ('S20', 'S22', 'S26', 'S30', 'S34', 'S38', 'S42', 'S46', 'S50', 'S54', 'S58', 'S62', 'S63'): 'S14', ('S16', 'S18', 'S22', 'S26', 'S30', 'S34', 'S38', 'S42', 'S46', 'S50', 'S54', 'S58', 'S62', 'S63'): 'S15', ('S12', 'S14', 'S18', 'S22', 'S26', 'S30', 'S34', 'S38', 'S42', 'S46', 'S50', 'S54', 'S58', 'S62', 'S63'): 'S16', ('S10', 'S14', 'S18', 'S2', 'S22', 'S26', 'S30', 'S34', 'S38', 'S42', 'S46', 'S50', 'S54', 'S58', 'S6', 'S62', 'S63'): 'S17'}\n",
      "{'startingState': 'S0', 'S0': {'isTerminatingState': False, 'a': 'S17', 'd': 'S16', 'e': 'S15', 'f': 'S14', '0': 'S13', '1': 'S12', '2': 'S11', '3': 'S10', '4': 'S9', '5': 'S8', '6': 'S7', '7': 'S6', '8': 'S5', '9': 'S4', 'c': 'S1'}, 'S1': {'isTerminatingState': False, '3': 'S2'}, 'S2': {'isTerminatingState': False, '2': 'S3'}, 'S3': {'isTerminatingState': True}, 'S4': {'isTerminatingState': False, '3': 'S2'}, 'S5': {'isTerminatingState': False, '3': 'S2'}, 'S6': {'isTerminatingState': False, '3': 'S2'}, 'S7': {'isTerminatingState': False, '3': 'S2'}, 'S8': {'isTerminatingState': False, '3': 'S2'}, 'S9': {'isTerminatingState': False, '3': 'S2'}, 'S10': {'isTerminatingState': False, '3': 'S2'}, 'S11': {'isTerminatingState': False, '3': 'S2'}, 'S12': {'isTerminatingState': False, '3': 'S2'}, 'S13': {'isTerminatingState': False, '3': 'S2'}, 'S14': {'isTerminatingState': False, '3': 'S2'}, 'S15': {'isTerminatingState': False, '3': 'S2'}, 'S16': {'isTerminatingState': False, '3': 'S2'}, 'S17': {'isTerminatingState': False, '3': 'S2'}}\n"
     ]
    }
   ],
   "source": [
    "test_nfa= {\n",
    "      \"startingState\": \"S61\",\n",
    "      \"S61\": {\n",
    "            \"isTerminatingState\": False,\n",
    "            \"ε\": [\n",
    "                  \"S59\",\n",
    "                  \"S57\"\n",
    "            ]\n",
    "      },\n",
    "      \"S62\": {\n",
    "            \"isTerminatingState\": False,\n",
    "            \"ε\": \"S63\"\n",
    "      },\n",
    "      \"S59\": {\n",
    "            \"isTerminatingState\": False,\n",
    "            \"9\": \"S60\"\n",
    "      },\n",
    "      \"S60\": {\n",
    "            \"isTerminatingState\": False,\n",
    "            \"ε\": \"S62\"\n",
    "      },\n",
    "      \"S57\": {\n",
    "            \"isTerminatingState\": False,\n",
    "            \"ε\": [\n",
    "                  \"S55\",\n",
    "                  \"S53\"\n",
    "            ]\n",
    "      },\n",
    "      \"S58\": {\n",
    "            \"isTerminatingState\": False,\n",
    "            \"ε\": \"S62\"\n",
    "      },\n",
    "      \"S55\": {\n",
    "            \"isTerminatingState\": False,\n",
    "            \"8\": \"S56\"\n",
    "      },\n",
    "      \"S56\": {\n",
    "            \"isTerminatingState\": False,\n",
    "            \"ε\": \"S58\"\n",
    "      },\n",
    "      \"S53\": {\n",
    "            \"isTerminatingState\": False,\n",
    "            \"ε\": [\n",
    "                  \"S51\",\n",
    "                  \"S49\"\n",
    "            ]\n",
    "      },\n",
    "      \"S54\": {\n",
    "            \"isTerminatingState\": False,\n",
    "            \"ε\": \"S58\"\n",
    "      },\n",
    "      \"S51\": {\n",
    "            \"isTerminatingState\": False,\n",
    "            \"7\": \"S52\"\n",
    "      },\n",
    "      \"S52\": {\n",
    "            \"isTerminatingState\": False,\n",
    "            \"ε\": \"S54\"\n",
    "      },\n",
    "      \"S49\": {\n",
    "            \"isTerminatingState\": False,\n",
    "            \"ε\": [\n",
    "                  \"S47\",\n",
    "                  \"S45\"\n",
    "            ]\n",
    "      },\n",
    "      \"S50\": {\n",
    "            \"isTerminatingState\": False,\n",
    "            \"ε\": \"S54\"\n",
    "      },\n",
    "      \"S47\": {\n",
    "            \"isTerminatingState\": False,\n",
    "            \"6\": \"S48\"\n",
    "      },\n",
    "      \"S48\": {\n",
    "            \"isTerminatingState\": False,\n",
    "            \"ε\": \"S50\"\n",
    "      },\n",
    "      \"S45\": {\n",
    "            \"isTerminatingState\": False,\n",
    "            \"ε\": [\n",
    "                  \"S43\",\n",
    "                  \"S41\"\n",
    "            ]\n",
    "      },\n",
    "      \"S46\": {\n",
    "            \"isTerminatingState\": False,\n",
    "            \"ε\": \"S50\"\n",
    "      },\n",
    "      \"S43\": {\n",
    "            \"isTerminatingState\": False,\n",
    "            \"5\": \"S44\"\n",
    "      },\n",
    "      \"S44\": {\n",
    "            \"isTerminatingState\": False,\n",
    "            \"ε\": \"S46\"\n",
    "      },\n",
    "      \"S41\": {\n",
    "            \"isTerminatingState\": False,\n",
    "            \"ε\": [\n",
    "                  \"S39\",\n",
    "                  \"S37\"\n",
    "            ]\n",
    "      },\n",
    "      \"S42\": {\n",
    "            \"isTerminatingState\": False,\n",
    "            \"ε\": \"S46\"\n",
    "      },\n",
    "      \"S39\": {\n",
    "            \"isTerminatingState\": False,\n",
    "            \"4\": \"S40\"\n",
    "      },\n",
    "      \"S40\": {\n",
    "            \"isTerminatingState\": False,\n",
    "            \"ε\": \"S42\"\n",
    "      },\n",
    "      \"S37\": {\n",
    "            \"isTerminatingState\": False,\n",
    "            \"ε\": [\n",
    "                  \"S35\",\n",
    "                  \"S33\"\n",
    "            ]\n",
    "      },\n",
    "      \"S38\": {\n",
    "            \"isTerminatingState\": False,\n",
    "            \"ε\": \"S42\"\n",
    "      },\n",
    "      \"S35\": {\n",
    "            \"isTerminatingState\": False,\n",
    "            \"3\": \"S36\"\n",
    "      },\n",
    "      \"S36\": {\n",
    "            \"isTerminatingState\": False,\n",
    "            \"ε\": \"S38\"\n",
    "      },\n",
    "      \"S33\": {\n",
    "            \"isTerminatingState\": False,\n",
    "            \"ε\": [\n",
    "                  \"S31\",\n",
    "                  \"S29\"\n",
    "            ]\n",
    "      },\n",
    "      \"S34\": {\n",
    "            \"isTerminatingState\": False,\n",
    "            \"ε\": \"S38\"\n",
    "      },\n",
    "      \"S31\": {\n",
    "            \"isTerminatingState\": False,\n",
    "            \"2\": \"S32\"\n",
    "      },\n",
    "      \"S32\": {\n",
    "            \"isTerminatingState\": False,\n",
    "            \"ε\": \"S34\"\n",
    "      },\n",
    "      \"S29\": {\n",
    "            \"isTerminatingState\": False,\n",
    "            \"ε\": [\n",
    "                  \"S27\",\n",
    "                  \"S25\"\n",
    "            ]\n",
    "      },\n",
    "      \"S30\": {\n",
    "            \"isTerminatingState\": False,\n",
    "            \"ε\": \"S34\"\n",
    "      },\n",
    "      \"S27\": {\n",
    "            \"isTerminatingState\": False,\n",
    "            \"1\": \"S28\"\n",
    "      },\n",
    "      \"S28\": {\n",
    "            \"isTerminatingState\": False,\n",
    "            \"ε\": \"S30\"\n",
    "      },\n",
    "      \"S25\": {\n",
    "            \"isTerminatingState\": False,\n",
    "            \"ε\": [\n",
    "                  \"S23\",\n",
    "                  \"S21\"\n",
    "            ]\n",
    "      },\n",
    "      \"S26\": {\n",
    "            \"isTerminatingState\": False,\n",
    "            \"ε\": \"S30\"\n",
    "      },\n",
    "      \"S23\": {\n",
    "            \"isTerminatingState\": False,\n",
    "            \"0\": \"S24\"\n",
    "      },\n",
    "      \"S24\": {\n",
    "            \"isTerminatingState\": False,\n",
    "            \"ε\": \"S26\"\n",
    "      },\n",
    "      \"S21\": {\n",
    "            \"isTerminatingState\": False,\n",
    "            \"ε\": [\n",
    "                  \"S19\",\n",
    "                  \"S17\"\n",
    "            ]\n",
    "      },\n",
    "      \"S22\": {\n",
    "            \"isTerminatingState\": False,\n",
    "            \"ε\": \"S26\"\n",
    "      },\n",
    "      \"S19\": {\n",
    "            \"isTerminatingState\": False,\n",
    "            \"f\": \"S20\"\n",
    "      },\n",
    "      \"S20\": {\n",
    "            \"isTerminatingState\": False,\n",
    "            \"ε\": \"S22\"\n",
    "      },\n",
    "      \"S17\": {\n",
    "            \"isTerminatingState\": False,\n",
    "            \"ε\": [\n",
    "                  \"S15\",\n",
    "                  \"S13\"\n",
    "            ]\n",
    "      },\n",
    "      \"S18\": {\n",
    "            \"isTerminatingState\": False,\n",
    "            \"ε\": \"S22\"\n",
    "      },\n",
    "      \"S15\": {\n",
    "            \"isTerminatingState\": False,\n",
    "            \"e\": \"S16\"\n",
    "      },\n",
    "      \"S16\": {\n",
    "            \"isTerminatingState\": False,\n",
    "            \"ε\": \"S18\"\n",
    "      },\n",
    "      \"S13\": {\n",
    "            \"isTerminatingState\": False,\n",
    "            \"ε\": [\n",
    "                  \"S11\",\n",
    "                  \"S9\"\n",
    "            ]\n",
    "      },\n",
    "      \"S14\": {\n",
    "            \"isTerminatingState\": False,\n",
    "            \"ε\": \"S18\"\n",
    "      },\n",
    "      \"S11\": {\n",
    "            \"isTerminatingState\": False,\n",
    "            \"d\": \"S12\"\n",
    "      },\n",
    "      \"S12\": {\n",
    "            \"isTerminatingState\": False,\n",
    "            \"ε\": \"S14\"\n",
    "      },\n",
    "      \"S9\": {\n",
    "            \"isTerminatingState\": False,\n",
    "            \"ε\": [\n",
    "                  \"S7\",\n",
    "                  \"S5\"\n",
    "            ]\n",
    "      },\n",
    "      \"S10\": {\n",
    "            \"isTerminatingState\": False,\n",
    "            \"ε\": \"S14\"\n",
    "      },\n",
    "      \"S7\": {\n",
    "            \"isTerminatingState\": False,\n",
    "            \"c\": \"S8\"\n",
    "      },\n",
    "      \"S8\": {\n",
    "            \"isTerminatingState\": False,\n",
    "            \"ε\": \"S10\"\n",
    "      },\n",
    "      \"S5\": {\n",
    "            \"isTerminatingState\": False,\n",
    "            \"ε\": [\n",
    "                  \"S3\",\n",
    "                  \"S1\"\n",
    "            ]\n",
    "      },\n",
    "      \"S6\": {\n",
    "            \"isTerminatingState\": False,\n",
    "            \"ε\": \"S10\"\n",
    "      },\n",
    "      \"S3\": {\n",
    "            \"isTerminatingState\": False,\n",
    "            \"ε\": \"S1\"\n",
    "      },\n",
    "      \"S4\": {\n",
    "            \"isTerminatingState\": False,\n",
    "            \"ε\": \"S5\"\n",
    "      },\n",
    "      \"S1\": {\n",
    "            \"isTerminatingState\": False,\n",
    "            \"a\": \"S2\"\n",
    "      },\n",
    "      \"S2\": {\n",
    "            \"isTerminatingState\": False,\n",
    "            \"ε\": \"S6\"\n",
    "      },\n",
    "      \"S63\": {\n",
    "            \"isTerminatingState\": False,\n",
    "            \"3\": \"S64\"\n",
    "      },\n",
    "      \"S64\": {\n",
    "            \"isTerminatingState\": False,\n",
    "            \"ε\": \"S65\"\n",
    "      },\n",
    "      \"S65\": {\n",
    "            \"isTerminatingState\": False,\n",
    "            \"2\": \"S66\"\n",
    "      },\n",
    "      \"S66\": {\n",
    "            \"isTerminatingState\": True\n",
    "      }\n",
    "}\n",
    "test_dfa = convert_nfa_to_dfa(test_nfa)\n",
    "print(test_dfa)\n",
    "final_dfa = get_final_dfa (test_dfa)\n",
    "print(final_dfa)\n"
   ]
  },
  {
   "cell_type": "markdown",
   "metadata": {},
   "source": [
    "# Minimized DFA"
   ]
  },
  {
   "cell_type": "code",
   "execution_count": 168,
   "metadata": {},
   "outputs": [],
   "source": [
    "def minimize_dfa(dfa):\n",
    "\n",
    "    unique_inputs = set()\n",
    "\n",
    "    groups_dic = {}\n",
    "    groups_dic[1] = set()\n",
    "    groups_dic[2] = set()\n",
    "\n",
    "    for key in dfa:\n",
    "        if key != \"startingState\":\n",
    "            if dfa[key][\"isTerminatingState\"]:\n",
    "                groups_dic[1].add(key)\n",
    "            else:\n",
    "                groups_dic[2].add(key)\n",
    "        \n",
    "            for sub_key in dfa[key]:\n",
    "                if sub_key != \"isTerminatingState\":\n",
    "                    unique_inputs.add(sub_key)\n",
    "\n",
    "    if len(groups_dic[1]) == 0:\n",
    "        del groups_dic[1]\n",
    "\n",
    "    if len(groups_dic[2]) == 0:\n",
    "        del groups_dic[2]\n",
    "\n",
    "    # print(groups_dic,unique_inputs)\n",
    "\n",
    "    #####################################################\n",
    "\n",
    "    stop = False\n",
    "\n",
    "    while not stop:\n",
    "\n",
    "        stop = True\n",
    "\n",
    "        groups_names = list(groups_dic.keys())\n",
    "        \n",
    "        for group_id in groups_names:\n",
    "                        \n",
    "            for input in unique_inputs:\n",
    "\n",
    "                dic={}\n",
    "                states_in_group = groups_dic[group_id] \n",
    "                # print('===========>',states_in_group,'=============>',input,'------------->',groups_dic)\n",
    "\n",
    "                for state in states_in_group:\n",
    "                    \n",
    "                    if input in dfa[state]:\n",
    "                        next_state = dfa[state][input]\n",
    "\n",
    "                        for group, state_list in groups_dic.items():\n",
    "                            if next_state in state_list:\n",
    "                                if group in dic.keys():\n",
    "                                    dic[group].add(state)\n",
    "                                else:\n",
    "                                    dic[group]={state}\n",
    "                    else: \n",
    "                        if \"-\" in dic.keys():\n",
    "                            dic[\"-\"].add(state)\n",
    "                        else:\n",
    "                            dic[\"-\"]={state}\n",
    "                \n",
    "                # print(dic) \n",
    "\n",
    "                if len(dic) > 1: # there is division\n",
    "                    stop = False\n",
    "                    i = max(groups_dic.keys()) + 1\n",
    "                    del groups_dic[group_id]\n",
    "                    for new_group in dic.keys():\n",
    "                            groups_dic[i]=dic[new_group]\n",
    "                            i+=1\n",
    "                    break\n",
    "            \n",
    "                        \n",
    "            \n",
    "                    \n",
    "    key_list = list(groups_dic.keys())\n",
    "    new_dic = {}\n",
    "    # print(\"groups dic\",groups_dic)\n",
    "    for key, value in groups_dic.items():\n",
    "        index = key_list.index(key)\n",
    "        value =  groups_dic[key]  # Get the value associated with the old key\n",
    "        new_dic[\"S\"+str(index)] = value  # Create a new key-value pair with the new key\n",
    "        \n",
    "       \n",
    "\n",
    "        \n",
    "    # print(\"groups dic\",new_dic)\n",
    "    inverted_dic = {}\n",
    "    for key, value in new_dic.items():\n",
    "        for val in value:\n",
    "            inverted_dic[val]=key\n",
    "    \n",
    "    # inverted_dict = {tuple(value): key for key, value in new_dic.items()}\n",
    "    minimized_dfa = {\n",
    "        \"startingState\":  [key for key, value in new_dic.items() if dfa[\"startingState\"] in value ][0]\n",
    "    }\n",
    "    # print(minimized_dfa)\n",
    "    # print((dfa[\"startingState\"]))\n",
    "    # print(inverted_dic)\n",
    "    # Build the minimized dfa in the standard json format specified\n",
    "    for key, value in new_dic.items():\n",
    "        # Let the first state in the group be its representative state\n",
    "        group_first_state = list(value)[0]\n",
    "        # Equate the transitions of the group with the transitions of its representative state\n",
    "        minimized_dfa[key] = dfa[group_first_state]\n",
    "        for inputt in minimized_dfa[key]:\n",
    "            if inputt == \"isTerminatingState\":\n",
    "                continue\n",
    "            # Change the name of the destination states to the name of their corresponding groups\n",
    "            minimized_dfa[key][inputt] = inverted_dic[minimized_dfa[key][inputt]]\n",
    "    print(minimized_dfa)\n",
    "    return minimized_dfa                        \n",
    "                    "
   ]
  },
  {
   "cell_type": "code",
   "execution_count": 169,
   "metadata": {},
   "outputs": [
    {
     "name": "stdout",
     "output_type": "stream",
     "text": [
      "{'startingState': 'S2', 'S0': {'isTerminatingState': True, 'c': 'S1'}, 'S1': {'isTerminatingState': False, 'd': 'S0'}, 'S2': {'isTerminatingState': False, 'b': 'S2', 'c': 'S3'}, 'S3': {'isTerminatingState': False, 'b': 'S2', 'd': 'S0', 'c': 'S3'}}\n"
     ]
    }
   ],
   "source": [
    "test_for_min={'startingState': 'S0', 'S0': {'isTerminatingState': False, 'b': 'S4', 'c': 'S1'}, 'S1': {'isTerminatingState': False, 'b': 'S4', 'd': 'S2', 'c': 'S1'}, 'S2': {'isTerminatingState': True, 'c': 'S3'}, 'S3': {'isTerminatingState': False, 'd': 'S2'}, 'S4': {'isTerminatingState': False, 'b': 'S4','c':'S1'}}\n",
    "try1 = {'startingState': 'S0', 'S0': {'isTerminatingState': False, 'a': 'S1'}, 'S1': {'isTerminatingState': False, 'a': 'S1', 'b': 'S2'}, 'S2': {'isTerminatingState': True}}\n",
    "minimize_dfa (test_for_min)\n",
    "# minimize_dfa (try1)\n",
    "try2 = {'startingState': 'S0', 'S0': {'isTerminatingState': False, 'a': 'S1'}, 'S1': {'isTerminatingState': False, 'b': 'S2'}, 'S2': {'isTerminatingState': False, 'd': 'S5', 'b': 'S4', 'c': 'S3'}, 'S3': {'isTerminatingState': False, 'd': 'S5', 'b': 'S4', 'c': 'S3'}, 'S4': {'isTerminatingState': False, 'd': 'S5', 'b': 'S4', 'c': 'S3'}, 'S5': {'isTerminatingState': True, 'd': 'S5'}}\n",
    "# minimize_dfa (try2)\n",
    "# minimize_dfa (final_dfa)"
   ]
  },
  {
   "cell_type": "code",
   "execution_count": 170,
   "metadata": {},
   "outputs": [
    {
     "name": "stdout",
     "output_type": "stream",
     "text": [
      "{'startingState': 'S2', 'S0': {'isTerminatingState': True}, 'S1': {'isTerminatingState': False, 'd': 'S0', 'e': 'S0', 'f': 'S0'}, 'S2': {'isTerminatingState': False, 'a': 'S1', 'b': 'S1', 'c': 'S1'}}\n"
     ]
    },
    {
     "data": {
      "text/plain": [
       "{'startingState': 'S2',\n",
       " 'S0': {'isTerminatingState': True},\n",
       " 'S1': {'isTerminatingState': False, 'd': 'S0', 'e': 'S0', 'f': 'S0'},\n",
       " 'S2': {'isTerminatingState': False, 'a': 'S1', 'b': 'S1', 'c': 'S1'}}"
      ]
     },
     "execution_count": 170,
     "metadata": {},
     "output_type": "execute_result"
    }
   ],
   "source": [
    "test_for_min={'startingState': 'S0', 'S0': {'isTerminatingState': False, 'a': 'S6', 'b': 'S5', 'c': 'S1'}, 'S1': {'isTerminatingState': False, 'd': 'S4', 'e': 'S3', 'f': 'S2'}, 'S2': {'isTerminatingState': True}, 'S3': {'isTerminatingState': True}, 'S4': {'isTerminatingState': True}, 'S5': {'isTerminatingState': False, 'd': 'S4', 'e': 'S3', 'f': 'S2'}, 'S6': {'isTerminatingState': False, 'd': 'S4', 'e': 'S3','f':'S2'}}\n",
    "minimize_dfa (test_for_min)"
   ]
  },
  {
   "cell_type": "code",
   "execution_count": 171,
   "metadata": {},
   "outputs": [],
   "source": [
    "def get_all_regex_data(regex):\n",
    "    postfix = to_postfix(regex)\n",
    "    nfa1 = postfix_to_nfa(postfix)\n",
    "    nfa_dict = convert_nfa_to_dictionary(nfa1)\n",
    "    save_json_file(nfa_dict,\"nfa\")\n",
    "    render_graph(nfa_dict,\"NFA for \",regex,\"nfa\", graph_attr)\n",
    "\n",
    "    #dfa\n",
    "    dfa1 = convert_nfa_to_dfa(nfa_dict)\n",
    "    dfa1 = get_final_dfa (dfa1)\n",
    "    save_json_file(dfa1,\"dfa\")\n",
    "    render_graph(dfa1,\"DFA for \",regex ,\"dfa\", graph_attr)\n",
    "\n",
    "    #min dfa\n",
    "    minimized_dfa1 = minimize_dfa (dfa1)\n",
    "    save_json_file(minimized_dfa1,\"minimized dfa\")\n",
    "    render_graph(minimized_dfa1,\"minimized DFA for \",regex , \"minimized dfa\", graph_attr)"
   ]
  },
  {
   "cell_type": "markdown",
   "metadata": {},
   "source": [
    "# test cases "
   ]
  },
  {
   "cell_type": "code",
   "execution_count": 172,
   "metadata": {},
   "outputs": [
    {
     "name": "stdout",
     "output_type": "stream",
     "text": [
      "(a*b)(b?a+)\n",
      "(a*b)(b?a+)\n",
      "(a*.b).(b?.a+)\n",
      "a*b.b?a+..\n"
     ]
    },
    {
     "name": "stdout",
     "output_type": "stream",
     "text": [
      "{('S1', 'S3', 'S4', 'S5'): 'S0', ('S10', 'S11', 'S13', 'S6', 'S7', 'S9'): 'S1', ('S10', 'S11', 'S13', 'S8'): 'S2', ('S11', 'S12', 'S13', 'S14'): 'S3', ('S1', 'S2', 'S3', 'S4', 'S5'): 'S4'}\n",
      "{'startingState': 'S1', 'S0': {'isTerminatingState': True, 'a': 'S0'}, 'S1': {'isTerminatingState': False, 'a': 'S1', 'b': 'S2'}, 'S2': {'isTerminatingState': False, 'a': 'S0', 'b': 'S3'}, 'S3': {'isTerminatingState': False, 'a': 'S0'}}\n"
     ]
    }
   ],
   "source": [
    "#(a*b)(b?a+)\n",
    "#nfa\n",
    "regex=\"(a*b)(b?a+)\"\n",
    "get_all_regex_data(regex)"
   ]
  },
  {
   "cell_type": "code",
   "execution_count": 173,
   "metadata": {},
   "outputs": [
    {
     "name": "stdout",
     "output_type": "stream",
     "text": [
      "(a*)*\n",
      "(a*)*\n",
      "(a*)*\n",
      "a**\n",
      "{('S1', 'S3', 'S4', 'S5', 'S6'): 'S0', ('S1', 'S2', 'S3', 'S4', 'S5', 'S6'): 'S1'}\n",
      "{'startingState': 'S0', 'S0': {'isTerminatingState': True, 'a': 'S0'}}\n"
     ]
    }
   ],
   "source": [
    "#(a*)*\n",
    "#nfa\n",
    "regex=\"(a*)*\"\n",
    "get_all_regex_data(regex)"
   ]
  },
  {
   "cell_type": "code",
   "execution_count": 174,
   "metadata": {},
   "outputs": [
    {
     "name": "stdout",
     "output_type": "stream",
     "text": [
      "(a*?)*\n",
      "(a*?)*\n",
      "(a*?)*\n",
      "a*?*\n",
      "{('S1', 'S3', 'S4', 'S5', 'S6', 'S7', 'S8'): 'S0', ('S1', 'S2', 'S3', 'S4', 'S5', 'S6', 'S7', 'S8'): 'S1'}\n",
      "{'startingState': 'S0', 'S0': {'isTerminatingState': True, 'a': 'S0'}}\n"
     ]
    }
   ],
   "source": [
    "#(a*?)*\n",
    "#nfa\n",
    "regex=\"(a*?)*\"\n",
    "get_all_regex_data(regex)"
   ]
  },
  {
   "cell_type": "code",
   "execution_count": 175,
   "metadata": {},
   "outputs": [
    {
     "name": "stdout",
     "output_type": "stream",
     "text": [
      "(a+a+)+b\n",
      "(a+a+)+b\n",
      "(a+.a+)+.b\n",
      "a+a+.+b.\n",
      "{('S1', 'S3', 'S9'): 'S0', ('S1', 'S2', 'S3', 'S4', 'S5', 'S7'): 'S1', ('S1', 'S10', 'S11', 'S2', 'S3', 'S4', 'S5', 'S6', 'S7', 'S8', 'S9'): 'S2', ('S12',): 'S3'}\n",
      "{'startingState': 'S3', 'S0': {'isTerminatingState': True}, 'S1': {'isTerminatingState': False, 'a': 'S1', 'b': 'S0'}, 'S2': {'isTerminatingState': False, 'a': 'S1'}, 'S3': {'isTerminatingState': False, 'a': 'S2'}}\n"
     ]
    }
   ],
   "source": [
    "#(a+a+)+b\n",
    "#nfa\n",
    "regex=\"(a+a+)+b\"\n",
    "get_all_regex_data(regex)"
   ]
  },
  {
   "cell_type": "code",
   "execution_count": 176,
   "metadata": {},
   "outputs": [
    {
     "name": "stdout",
     "output_type": "stream",
     "text": [
      "(a+?a+?)+?b\n",
      "(a+?a+?)+?b\n",
      "(a+?.a+?)+?.b\n",
      "a+?a+?.+?b.\n",
      "{('S1', 'S11', 'S12', 'S13', 'S14', 'S15', 'S16', 'S17', 'S3', 'S5', 'S6', 'S7', 'S9'): 'S0', ('S18',): 'S1', ('S1', 'S10', 'S11', 'S12', 'S13', 'S14', 'S16', 'S17', 'S2', 'S3', 'S4', 'S5', 'S6', 'S7', 'S8', 'S9'): 'S2'}\n",
      "{'startingState': 'S1', 'S0': {'isTerminatingState': True}, 'S1': {'isTerminatingState': False, 'a': 'S1', 'b': 'S0'}}\n"
     ]
    }
   ],
   "source": [
    "#(a+?a+?)+?b\n",
    "#nfa\n",
    "regex=\"(a+?a+?)+?b\"\n",
    "get_all_regex_data(regex)"
   ]
  },
  {
   "cell_type": "code",
   "execution_count": 177,
   "metadata": {},
   "outputs": [
    {
     "name": "stdout",
     "output_type": "stream",
     "text": [
      "(a*b*)([a-b]*)\n",
      "(a*b*)((a|b)*)\n",
      "(a*.b*).((a|b)*)\n",
      "a*b*.ab|*.\n",
      "{('S1', 'S11', 'S13', 'S15', 'S16', 'S3', 'S4', 'S5', 'S7', 'S8', 'S9'): 'S0', ('S11', 'S12', 'S13', 'S14', 'S15', 'S16', 'S5', 'S6', 'S7', 'S8', 'S9'): 'S1', ('S10', 'S11', 'S13', 'S14', 'S15', 'S16', 'S9'): 'S2', ('S11', 'S12', 'S13', 'S14', 'S15', 'S16', 'S9'): 'S3', ('S1', 'S10', 'S11', 'S13', 'S14', 'S15', 'S16', 'S2', 'S3', 'S4', 'S5', 'S7', 'S8', 'S9'): 'S4'}\n",
      "{'startingState': 'S0', 'S0': {'isTerminatingState': True, 'a': 'S0', 'b': 'S0'}}\n"
     ]
    }
   ],
   "source": [
    "#nfa\n",
    "regex=\"(a*b*)([a-b]*)\"\n",
    "get_all_regex_data(regex)"
   ]
  },
  {
   "cell_type": "code",
   "execution_count": 178,
   "metadata": {},
   "outputs": [
    {
     "name": "stdout",
     "output_type": "stream",
     "text": [
      "[A-Ea-c]+1|2[0-9]*K?[ABC](ABC)\n",
      "(A|B|C|D|E|a|b|c)+1|2(0|1|2|3|4|5|6|7|8|9)*K?(A|B|C)(ABC)\n",
      "(A|B|C|D|E|a|b|c)+.1|2.(0|1|2|3|4|5|6|7|8|9)*.K?.(A|B|C).(A.B.C)\n",
      "AB|C|D|E|a|b|c|+1.201|2|3|4|5|6|7|8|9|*.K?.AB|C|.AB.C..|\n",
      "{('S1', 'S11', 'S13', 'S15', 'S17', 'S19', 'S21', 'S23', 'S25', 'S27', 'S29', 'S3', 'S31', 'S35', 'S5', 'S7', 'S9', 'S97'): 'S0', ('S1', 'S10', 'S11', 'S13', 'S14', 'S15', 'S17', 'S18', 'S19', 'S21', 'S22', 'S23', 'S25', 'S26', 'S27', 'S29', 'S3', 'S30', 'S31', 'S32', 'S33', 'S5', 'S7', 'S8', 'S9'): 'S1', ('S34', 'S98'): 'S2', ('S1', 'S10', 'S11', 'S13', 'S14', 'S15', 'S17', 'S18', 'S19', 'S21', 'S22', 'S23', 'S25', 'S26', 'S27', 'S29', 'S3', 'S30', 'S31', 'S32', 'S33', 'S4', 'S5', 'S6', 'S7', 'S9'): 'S3', ('S1', 'S11', 'S13', 'S15', 'S17', 'S19', 'S21', 'S23', 'S25', 'S27', 'S28', 'S29', 'S3', 'S30', 'S31', 'S32', 'S33', 'S5', 'S7', 'S9'): 'S4', ('S1', 'S11', 'S13', 'S15', 'S17', 'S19', 'S21', 'S23', 'S24', 'S25', 'S26', 'S27', 'S29', 'S3', 'S30', 'S31', 'S32', 'S33', 'S5', 'S7', 'S9'): 'S5', ('S1', 'S11', 'S13', 'S15', 'S17', 'S19', 'S20', 'S21', 'S22', 'S23', 'S25', 'S26', 'S27', 'S29', 'S3', 'S30', 'S31', 'S32', 'S33', 'S5', 'S7', 'S9'): 'S6', ('S1', 'S11', 'S13', 'S15', 'S16', 'S17', 'S18', 'S19', 'S21', 'S22', 'S23', 'S25', 'S26', 'S27', 'S29', 'S3', 'S30', 'S31', 'S32', 'S33', 'S5', 'S7', 'S9'): 'S7', ('S1', 'S11', 'S12', 'S13', 'S14', 'S15', 'S17', 'S18', 'S19', 'S21', 'S22', 'S23', 'S25', 'S26', 'S27', 'S29', 'S3', 'S30', 'S31', 'S32', 'S33', 'S5', 'S7', 'S9'): 'S8', ('S1', 'S10', 'S11', 'S13', 'S14', 'S15', 'S17', 'S18', 'S19', 'S2', 'S21', 'S22', 'S23', 'S25', 'S26', 'S27', 'S29', 'S3', 'S30', 'S31', 'S32', 'S33', 'S5', 'S6', 'S7', 'S9'): 'S9', ('S36', 'S37', 'S39', 'S41', 'S43', 'S45', 'S47', 'S49', 'S51', 'S53', 'S55', 'S57', 'S59', 'S61', 'S63', 'S65', 'S67', 'S69', 'S71', 'S73', 'S75', 'S76', 'S77', 'S79', 'S80', 'S81', 'S83', 'S85', 'S87', 'S89'): 'S10', ('S88', 'S90', 'S91'): 'S11', ('S92', 'S93'): 'S12', ('S94', 'S95'): 'S13', ('S96', 'S98'): 'S14', ('S84', 'S86', 'S90', 'S91'): 'S15', ('S82', 'S86', 'S90', 'S91'): 'S16', ('S78', 'S80', 'S81', 'S83', 'S85', 'S87', 'S89'): 'S17', ('S37', 'S39', 'S41', 'S43', 'S45', 'S47', 'S49', 'S51', 'S53', 'S55', 'S57', 'S59', 'S61', 'S63', 'S65', 'S67', 'S69', 'S71', 'S72', 'S73', 'S74', 'S75', 'S76', 'S77', 'S79', 'S80', 'S81', 'S83', 'S85', 'S87', 'S89'): 'S18', ('S37', 'S39', 'S41', 'S43', 'S45', 'S47', 'S49', 'S51', 'S53', 'S55', 'S57', 'S59', 'S61', 'S63', 'S65', 'S67', 'S68', 'S69', 'S70', 'S71', 'S73', 'S74', 'S75', 'S76', 'S77', 'S79', 'S80', 'S81', 'S83', 'S85', 'S87', 'S89'): 'S19', ('S37', 'S39', 'S41', 'S43', 'S45', 'S47', 'S49', 'S51', 'S53', 'S55', 'S57', 'S59', 'S61', 'S63', 'S64', 'S65', 'S66', 'S67', 'S69', 'S70', 'S71', 'S73', 'S74', 'S75', 'S76', 'S77', 'S79', 'S80', 'S81', 'S83', 'S85', 'S87', 'S89'): 'S20', ('S37', 'S39', 'S41', 'S43', 'S45', 'S47', 'S49', 'S51', 'S53', 'S55', 'S57', 'S59', 'S60', 'S61', 'S62', 'S63', 'S65', 'S66', 'S67', 'S69', 'S70', 'S71', 'S73', 'S74', 'S75', 'S76', 'S77', 'S79', 'S80', 'S81', 'S83', 'S85', 'S87', 'S89'): 'S21', ('S37', 'S39', 'S41', 'S43', 'S45', 'S47', 'S49', 'S51', 'S53', 'S55', 'S56', 'S57', 'S58', 'S59', 'S61', 'S62', 'S63', 'S65', 'S66', 'S67', 'S69', 'S70', 'S71', 'S73', 'S74', 'S75', 'S76', 'S77', 'S79', 'S80', 'S81', 'S83', 'S85', 'S87', 'S89'): 'S22', ('S37', 'S39', 'S41', 'S43', 'S45', 'S47', 'S49', 'S51', 'S52', 'S53', 'S54', 'S55', 'S57', 'S58', 'S59', 'S61', 'S62', 'S63', 'S65', 'S66', 'S67', 'S69', 'S70', 'S71', 'S73', 'S74', 'S75', 'S76', 'S77', 'S79', 'S80', 'S81', 'S83', 'S85', 'S87', 'S89'): 'S23', ('S37', 'S39', 'S41', 'S43', 'S45', 'S47', 'S48', 'S49', 'S50', 'S51', 'S53', 'S54', 'S55', 'S57', 'S58', 'S59', 'S61', 'S62', 'S63', 'S65', 'S66', 'S67', 'S69', 'S70', 'S71', 'S73', 'S74', 'S75', 'S76', 'S77', 'S79', 'S80', 'S81', 'S83', 'S85', 'S87', 'S89'): 'S24', ('S37', 'S39', 'S41', 'S43', 'S44', 'S45', 'S46', 'S47', 'S49', 'S50', 'S51', 'S53', 'S54', 'S55', 'S57', 'S58', 'S59', 'S61', 'S62', 'S63', 'S65', 'S66', 'S67', 'S69', 'S70', 'S71', 'S73', 'S74', 'S75', 'S76', 'S77', 'S79', 'S80', 'S81', 'S83', 'S85', 'S87', 'S89'): 'S25', ('S37', 'S39', 'S40', 'S41', 'S42', 'S43', 'S45', 'S46', 'S47', 'S49', 'S50', 'S51', 'S53', 'S54', 'S55', 'S57', 'S58', 'S59', 'S61', 'S62', 'S63', 'S65', 'S66', 'S67', 'S69', 'S70', 'S71', 'S73', 'S74', 'S75', 'S76', 'S77', 'S79', 'S80', 'S81', 'S83', 'S85', 'S87', 'S89'): 'S26', ('S37', 'S38', 'S39', 'S41', 'S42', 'S43', 'S45', 'S46', 'S47', 'S49', 'S50', 'S51', 'S53', 'S54', 'S55', 'S57', 'S58', 'S59', 'S61', 'S62', 'S63', 'S65', 'S66', 'S67', 'S69', 'S70', 'S71', 'S73', 'S74', 'S75', 'S76', 'S77', 'S79', 'S80', 'S81', 'S83', 'S85', 'S87', 'S89'): 'S27'}\n",
      "{'startingState': 'S3', 'S0': {'isTerminatingState': True}, 'S1': {'isTerminatingState': False, '0': 'S1', '1': 'S1', '2': 'S1', '3': 'S1', '4': 'S1', '5': 'S1', '6': 'S1', '7': 'S1', '8': 'S1', '9': 'S1', 'K': 'S5', 'A': 'S4', 'B': 'S4', 'C': 'S4'}, 'S2': {'isTerminatingState': False, 'A': 'S2', 'D': 'S2', 'E': 'S2', 'a': 'S2', 'b': 'S2', 'c': 'S2', 'B': 'S2', '1': 'S0', 'C': 'S2'}, 'S3': {'isTerminatingState': False, 'A': 'S2', 'D': 'S2', 'E': 'S2', 'a': 'S2', 'b': 'S2', 'c': 'S2', 'B': 'S2', '2': 'S1', 'C': 'S2'}, 'S4': {'isTerminatingState': False, 'A': 'S6'}, 'S5': {'isTerminatingState': False, 'A': 'S4', 'B': 'S4', 'C': 'S4'}, 'S6': {'isTerminatingState': False, 'B': 'S7'}, 'S7': {'isTerminatingState': False, 'C': 'S0'}}\n"
     ]
    }
   ],
   "source": [
    "#nfa\n",
    "regex=\"[A-Ea-c]+1|2[0-9]*K?[ABC](ABC)\"\n",
    "get_all_regex_data(regex)"
   ]
  },
  {
   "cell_type": "code",
   "execution_count": 179,
   "metadata": {},
   "outputs": [
    {
     "name": "stdout",
     "output_type": "stream",
     "text": [
      "[a-c]*\n",
      "(a|b|c)*\n",
      "(a|b|c)*\n",
      "ab|c|*\n",
      "{('S1', 'S11', 'S12', 'S3', 'S5', 'S7', 'S9'): 'S0', ('S1', 'S10', 'S11', 'S12', 'S3', 'S5', 'S7', 'S8', 'S9'): 'S1', ('S1', 'S10', 'S11', 'S12', 'S3', 'S4', 'S5', 'S6', 'S7', 'S9'): 'S2', ('S1', 'S10', 'S11', 'S12', 'S2', 'S3', 'S5', 'S6', 'S7', 'S9'): 'S3'}\n",
      "{'startingState': 'S0', 'S0': {'isTerminatingState': True, 'a': 'S0', 'b': 'S0', 'c': 'S0'}}\n"
     ]
    }
   ],
   "source": [
    "#nfa\n",
    "regex=\"[a-c]*\"\n",
    "get_all_regex_data(regex)"
   ]
  },
  {
   "cell_type": "code",
   "execution_count": 180,
   "metadata": {},
   "outputs": [
    {
     "name": "stdout",
     "output_type": "stream",
     "text": [
      "(a|b)*a[ab]?\n",
      "(a|b)*a(a|b)?\n",
      "(a|b)*.a.(a|b)?\n",
      "ab|*a.ab|?.\n",
      "{('S1', 'S3', 'S5', 'S7', 'S8', 'S9'): 'S0', ('S1', 'S3', 'S4', 'S5', 'S6', 'S7', 'S8', 'S9'): 'S1', ('S1', 'S10', 'S11', 'S13', 'S15', 'S17', 'S18', 'S2', 'S3', 'S5', 'S6', 'S7', 'S8', 'S9'): 'S2', ('S1', 'S14', 'S16', 'S18', 'S3', 'S4', 'S5', 'S6', 'S7', 'S8', 'S9'): 'S3', ('S1', 'S10', 'S11', 'S12', 'S13', 'S15', 'S16', 'S17', 'S18', 'S2', 'S3', 'S5', 'S6', 'S7', 'S8', 'S9'): 'S4'}\n",
      "{'startingState': 'S0', 'S0': {'isTerminatingState': False, 'a': 'S1', 'b': 'S0'}, 'S1': {'isTerminatingState': True, 'a': 'S1', 'b': 'S2'}, 'S2': {'isTerminatingState': True, 'a': 'S1', 'b': 'S0'}}\n"
     ]
    }
   ],
   "source": [
    "#nfa\n",
    "regex=\"(a|b)*a[ab]?\"\n",
    "get_all_regex_data(regex)"
   ]
  },
  {
   "cell_type": "code",
   "execution_count": 181,
   "metadata": {},
   "outputs": [
    {
     "name": "stdout",
     "output_type": "stream",
     "text": [
      "[abc](d|e|f)\n",
      "(a|b|c)(d|e|f)\n",
      "(a|b|c).(d|e|f)\n",
      "ab|c|de|f|.\n"
     ]
    },
    {
     "name": "stdout",
     "output_type": "stream",
     "text": [
      "{('S1', 'S3', 'S5', 'S7', 'S9'): 'S0', ('S10', 'S11', 'S13', 'S15', 'S17', 'S19', 'S8'): 'S1', ('S18', 'S20'): 'S2', ('S14', 'S16', 'S20'): 'S3', ('S12', 'S16', 'S20'): 'S4', ('S10', 'S11', 'S13', 'S15', 'S17', 'S19', 'S4', 'S6'): 'S5', ('S10', 'S11', 'S13', 'S15', 'S17', 'S19', 'S2', 'S6'): 'S6'}\n",
      "{'startingState': 'S2', 'S0': {'isTerminatingState': True}, 'S1': {'isTerminatingState': False, 'd': 'S0', 'e': 'S0', 'f': 'S0'}, 'S2': {'isTerminatingState': False, 'a': 'S1', 'b': 'S1', 'c': 'S1'}}\n"
     ]
    }
   ],
   "source": [
    "regex=\"[abc](d|e|f)\"\n",
    "get_all_regex_data(regex)"
   ]
  },
  {
   "cell_type": "code",
   "execution_count": 182,
   "metadata": {},
   "outputs": [
    {
     "name": "stdout",
     "output_type": "stream",
     "text": [
      "[a-fA-C]\n",
      "(a|b|c|d|e|f|A|B|C)\n",
      "(a|b|c|d|e|f|A|B|C)\n",
      "ab|c|d|e|f|A|B|C|\n",
      "{('S1', 'S11', 'S13', 'S15', 'S17', 'S19', 'S21', 'S23', 'S25', 'S27', 'S29', 'S3', 'S31', 'S33', 'S5', 'S7', 'S9'): 'S0', ('S10', 'S14', 'S18', 'S22', 'S26', 'S30', 'S34', 'S8'): 'S1', ('S32', 'S34'): 'S2', ('S10', 'S14', 'S18', 'S22', 'S26', 'S30', 'S34', 'S4', 'S6'): 'S3', ('S28', 'S30', 'S34'): 'S4', ('S24', 'S26', 'S30', 'S34'): 'S5', ('S20', 'S22', 'S26', 'S30', 'S34'): 'S6', ('S16', 'S18', 'S22', 'S26', 'S30', 'S34'): 'S7', ('S12', 'S14', 'S18', 'S22', 'S26', 'S30', 'S34'): 'S8', ('S10', 'S14', 'S18', 'S2', 'S22', 'S26', 'S30', 'S34', 'S6'): 'S9'}\n",
      "{'startingState': 'S1', 'S0': {'isTerminatingState': True}, 'S1': {'isTerminatingState': False, 'a': 'S0', 'd': 'S0', 'e': 'S0', 'f': 'S0', 'A': 'S0', 'B': 'S0', 'b': 'S0', 'C': 'S0', 'c': 'S0'}}\n"
     ]
    }
   ],
   "source": [
    "regex=\"[a-fA-C]\"\n",
    "get_all_regex_data(regex)"
   ]
  },
  {
   "cell_type": "code",
   "execution_count": 183,
   "metadata": {},
   "outputs": [
    {
     "name": "stdout",
     "output_type": "stream",
     "text": [
      "[a-f0-9]32\n",
      "(a|b|c|d|e|f|0|1|2|3|4|5|6|7|8|9)32\n",
      "(a|b|c|d|e|f|0|1|2|3|4|5|6|7|8|9).3.2\n",
      "ab|c|d|e|f|0|1|2|3|4|5|6|7|8|9|3.2.\n",
      "{('S1', 'S11', 'S13', 'S15', 'S17', 'S19', 'S21', 'S23', 'S25', 'S27', 'S29', 'S3', 'S31', 'S33', 'S35', 'S37', 'S39', 'S41', 'S43', 'S45', 'S47', 'S49', 'S5', 'S51', 'S53', 'S55', 'S57', 'S59', 'S61', 'S7', 'S9'): 'S0', ('S10', 'S14', 'S18', 'S22', 'S26', 'S30', 'S34', 'S38', 'S42', 'S46', 'S50', 'S54', 'S58', 'S62', 'S63', 'S8'): 'S1', ('S64', 'S65'): 'S2', ('S66',): 'S3', ('S60', 'S62', 'S63'): 'S4', ('S56', 'S58', 'S62', 'S63'): 'S5', ('S52', 'S54', 'S58', 'S62', 'S63'): 'S6', ('S48', 'S50', 'S54', 'S58', 'S62', 'S63'): 'S7', ('S44', 'S46', 'S50', 'S54', 'S58', 'S62', 'S63'): 'S8', ('S40', 'S42', 'S46', 'S50', 'S54', 'S58', 'S62', 'S63'): 'S9', ('S36', 'S38', 'S42', 'S46', 'S50', 'S54', 'S58', 'S62', 'S63'): 'S10', ('S32', 'S34', 'S38', 'S42', 'S46', 'S50', 'S54', 'S58', 'S62', 'S63'): 'S11', ('S10', 'S14', 'S18', 'S22', 'S26', 'S30', 'S34', 'S38', 'S4', 'S42', 'S46', 'S50', 'S54', 'S58', 'S6', 'S62', 'S63'): 'S12', ('S28', 'S30', 'S34', 'S38', 'S42', 'S46', 'S50', 'S54', 'S58', 'S62', 'S63'): 'S13', ('S24', 'S26', 'S30', 'S34', 'S38', 'S42', 'S46', 'S50', 'S54', 'S58', 'S62', 'S63'): 'S14', ('S20', 'S22', 'S26', 'S30', 'S34', 'S38', 'S42', 'S46', 'S50', 'S54', 'S58', 'S62', 'S63'): 'S15', ('S16', 'S18', 'S22', 'S26', 'S30', 'S34', 'S38', 'S42', 'S46', 'S50', 'S54', 'S58', 'S62', 'S63'): 'S16', ('S12', 'S14', 'S18', 'S22', 'S26', 'S30', 'S34', 'S38', 'S42', 'S46', 'S50', 'S54', 'S58', 'S62', 'S63'): 'S17', ('S10', 'S14', 'S18', 'S2', 'S22', 'S26', 'S30', 'S34', 'S38', 'S42', 'S46', 'S50', 'S54', 'S58', 'S6', 'S62', 'S63'): 'S18'}\n",
      "{'startingState': 'S1', 'S0': {'isTerminatingState': True}, 'S1': {'isTerminatingState': False, 'a': 'S2', 'd': 'S2', 'e': 'S2', 'f': 'S2', '0': 'S2', '1': 'S2', 'b': 'S2', '2': 'S2', '3': 'S2', '4': 'S2', '5': 'S2', '6': 'S2', '7': 'S2', '8': 'S2', '9': 'S2', 'c': 'S2'}, 'S2': {'isTerminatingState': False, '3': 'S3'}, 'S3': {'isTerminatingState': False, '2': 'S0'}}\n"
     ]
    }
   ],
   "source": [
    "regex=\"[a-f0-9]32\"\n",
    "get_all_regex_data(regex)"
   ]
  },
  {
   "cell_type": "code",
   "execution_count": 184,
   "metadata": {},
   "outputs": [
    {
     "name": "stdout",
     "output_type": "stream",
     "text": [
      "a*|b*\n",
      "a*|b*\n",
      "a*|b*\n",
      "a*b*|\n"
     ]
    },
    {
     "name": "stdout",
     "output_type": "stream",
     "text": [
      "{('S1', 'S10', 'S3', 'S4', 'S5', 'S7', 'S8', 'S9'): 'S0', ('S10', 'S5', 'S6', 'S7', 'S8'): 'S1', ('S1', 'S10', 'S2', 'S3', 'S4'): 'S2'}\n",
      "{'startingState': 'S2', 'S0': {'isTerminatingState': True, 'b': 'S0'}, 'S1': {'isTerminatingState': True, 'a': 'S1'}, 'S2': {'isTerminatingState': True, 'a': 'S1', 'b': 'S0'}}\n"
     ]
    }
   ],
   "source": [
    "regex=\"a*|b*\"\n",
    "get_all_regex_data(regex)"
   ]
  },
  {
   "cell_type": "code",
   "execution_count": 185,
   "metadata": {},
   "outputs": [
    {
     "name": "stdout",
     "output_type": "stream",
     "text": [
      "a*b+[a-z](c?)\n",
      "a*b+(a|b|c|d|e|f|g|h|i|j|k|l|m|n|o|p|q|r|s|t|u|v|w|x|y|z)(c?)\n",
      "a*.b+.(a|b|c|d|e|f|g|h|i|j|k|l|m|n|o|p|q|r|s|t|u|v|w|x|y|z).(c?)\n",
      "a*b+.ab|c|d|e|f|g|h|i|j|k|l|m|n|o|p|q|r|s|t|u|v|w|x|y|z|.c?.\n",
      "{('S1', 'S3', 'S4', 'S5', 'S7'): 'S0', ('S101', 'S103', 'S105', 'S107', 'S109', 'S11', 'S13', 'S15', 'S17', 'S19', 'S21', 'S23', 'S25', 'S27', 'S29', 'S31', 'S33', 'S35', 'S37', 'S39', 'S41', 'S43', 'S45', 'S47', 'S49', 'S5', 'S51', 'S53', 'S55', 'S57', 'S59', 'S6', 'S61', 'S63', 'S65', 'S67', 'S69', 'S7', 'S71', 'S73', 'S75', 'S77', 'S79', 'S8', 'S81', 'S83', 'S85', 'S87', 'S89', 'S9', 'S91', 'S93', 'S95', 'S97', 'S99'): 'S1', ('S100', 'S102', 'S106', 'S110', 'S111', 'S113', 'S114'): 'S2', ('S112', 'S114'): 'S3', ('S102', 'S106', 'S110', 'S111', 'S113', 'S114', 'S96', 'S98'): 'S4', ('S102', 'S106', 'S110', 'S111', 'S113', 'S114', 'S92', 'S94', 'S98'): 'S5', ('S10', 'S102', 'S106', 'S110', 'S111', 'S113', 'S114', 'S14', 'S18', 'S22', 'S26', 'S30', 'S34', 'S38', 'S42', 'S46', 'S50', 'S54', 'S58', 'S62', 'S66', 'S70', 'S74', 'S78', 'S82', 'S86', 'S90', 'S94', 'S98'): 'S6', ('S102', 'S106', 'S110', 'S111', 'S113', 'S114', 'S88', 'S90', 'S94', 'S98'): 'S7', ('S102', 'S106', 'S110', 'S111', 'S113', 'S114', 'S84', 'S86', 'S90', 'S94', 'S98'): 'S8', ('S102', 'S106', 'S110', 'S111', 'S113', 'S114', 'S80', 'S82', 'S86', 'S90', 'S94', 'S98'): 'S9', ('S102', 'S106', 'S110', 'S111', 'S113', 'S114', 'S76', 'S78', 'S82', 'S86', 'S90', 'S94', 'S98'): 'S10', ('S102', 'S106', 'S110', 'S111', 'S113', 'S114', 'S72', 'S74', 'S78', 'S82', 'S86', 'S90', 'S94', 'S98'): 'S11', ('S102', 'S106', 'S110', 'S111', 'S113', 'S114', 'S68', 'S70', 'S74', 'S78', 'S82', 'S86', 'S90', 'S94', 'S98'): 'S12', ('S102', 'S106', 'S110', 'S111', 'S113', 'S114', 'S64', 'S66', 'S70', 'S74', 'S78', 'S82', 'S86', 'S90', 'S94', 'S98'): 'S13', ('S102', 'S106', 'S110', 'S111', 'S113', 'S114', 'S60', 'S62', 'S66', 'S70', 'S74', 'S78', 'S82', 'S86', 'S90', 'S94', 'S98'): 'S14', ('S102', 'S106', 'S110', 'S111', 'S113', 'S114', 'S56', 'S58', 'S62', 'S66', 'S70', 'S74', 'S78', 'S82', 'S86', 'S90', 'S94', 'S98'): 'S15', ('S102', 'S106', 'S110', 'S111', 'S113', 'S114', 'S52', 'S54', 'S58', 'S62', 'S66', 'S70', 'S74', 'S78', 'S82', 'S86', 'S90', 'S94', 'S98'): 'S16', ('S102', 'S106', 'S110', 'S111', 'S113', 'S114', 'S48', 'S50', 'S54', 'S58', 'S62', 'S66', 'S70', 'S74', 'S78', 'S82', 'S86', 'S90', 'S94', 'S98'): 'S17', ('S102', 'S106', 'S110', 'S111', 'S113', 'S114', 'S44', 'S46', 'S50', 'S54', 'S58', 'S62', 'S66', 'S70', 'S74', 'S78', 'S82', 'S86', 'S90', 'S94', 'S98'): 'S18', ('S102', 'S106', 'S110', 'S111', 'S113', 'S114', 'S40', 'S42', 'S46', 'S50', 'S54', 'S58', 'S62', 'S66', 'S70', 'S74', 'S78', 'S82', 'S86', 'S90', 'S94', 'S98'): 'S19', ('S102', 'S106', 'S110', 'S111', 'S113', 'S114', 'S36', 'S38', 'S42', 'S46', 'S50', 'S54', 'S58', 'S62', 'S66', 'S70', 'S74', 'S78', 'S82', 'S86', 'S90', 'S94', 'S98'): 'S20', ('S102', 'S106', 'S110', 'S111', 'S113', 'S114', 'S32', 'S34', 'S38', 'S42', 'S46', 'S50', 'S54', 'S58', 'S62', 'S66', 'S70', 'S74', 'S78', 'S82', 'S86', 'S90', 'S94', 'S98'): 'S21', ('S102', 'S106', 'S110', 'S111', 'S113', 'S114', 'S28', 'S30', 'S34', 'S38', 'S42', 'S46', 'S50', 'S54', 'S58', 'S62', 'S66', 'S70', 'S74', 'S78', 'S82', 'S86', 'S90', 'S94', 'S98'): 'S22', ('S102', 'S106', 'S110', 'S111', 'S113', 'S114', 'S24', 'S26', 'S30', 'S34', 'S38', 'S42', 'S46', 'S50', 'S54', 'S58', 'S62', 'S66', 'S70', 'S74', 'S78', 'S82', 'S86', 'S90', 'S94', 'S98'): 'S23', ('S102', 'S106', 'S110', 'S111', 'S113', 'S114', 'S20', 'S22', 'S26', 'S30', 'S34', 'S38', 'S42', 'S46', 'S50', 'S54', 'S58', 'S62', 'S66', 'S70', 'S74', 'S78', 'S82', 'S86', 'S90', 'S94', 'S98'): 'S24', ('S102', 'S106', 'S110', 'S111', 'S113', 'S114', 'S16', 'S18', 'S22', 'S26', 'S30', 'S34', 'S38', 'S42', 'S46', 'S50', 'S54', 'S58', 'S62', 'S66', 'S70', 'S74', 'S78', 'S82', 'S86', 'S90', 'S94', 'S98'): 'S25', ('S101', 'S102', 'S103', 'S105', 'S106', 'S107', 'S109', 'S11', 'S110', 'S111', 'S113', 'S114', 'S12', 'S13', 'S14', 'S15', 'S17', 'S18', 'S19', 'S21', 'S22', 'S23', 'S25', 'S26', 'S27', 'S29', 'S30', 'S31', 'S33', 'S34', 'S35', 'S37', 'S38', 'S39', 'S41', 'S42', 'S43', 'S45', 'S46', 'S47', 'S49', 'S5', 'S50', 'S51', 'S53', 'S54', 'S55', 'S57', 'S58', 'S59', 'S6', 'S61', 'S62', 'S63', 'S65', 'S66', 'S67', 'S69', 'S7', 'S70', 'S71', 'S73', 'S74', 'S75', 'S77', 'S78', 'S79', 'S8', 'S81', 'S82', 'S83', 'S85', 'S86', 'S87', 'S89', 'S9', 'S90', 'S91', 'S93', 'S94', 'S95', 'S97', 'S98', 'S99'): 'S26', ('S102', 'S106', 'S110', 'S111', 'S112', 'S113', 'S114', 'S16', 'S18', 'S22', 'S26', 'S30', 'S34', 'S38', 'S42', 'S46', 'S50', 'S54', 'S58', 'S62', 'S66', 'S70', 'S74', 'S78', 'S82', 'S86', 'S90', 'S94', 'S98'): 'S27', ('S108', 'S110', 'S111', 'S113', 'S114'): 'S28', ('S104', 'S106', 'S110', 'S111', 'S113', 'S114'): 'S29', ('S1', 'S2', 'S3', 'S4', 'S5', 'S7'): 'S30'}\n",
      "{'startingState': 'S1', 'S0': {'isTerminatingState': True, 'y': 'S3', 'z': 'S3', 'b': 'S0', 'c': 'S3', 'd': 'S3', 'e': 'S3', 'f': 'S3', 'g': 'S3', 'h': 'S3', 'i': 'S3', 'j': 'S3', 'k': 'S3', 'l': 'S3', 'm': 'S3', 'n': 'S3', 'o': 'S3', 'p': 'S3', 'q': 'S3', 'r': 'S3', 's': 'S3', 't': 'S3', 'u': 'S3', 'a': 'S3', 'v': 'S3', 'w': 'S3', 'x': 'S3'}, 'S1': {'isTerminatingState': False, 'a': 'S1', 'b': 'S2'}, 'S2': {'isTerminatingState': False, 'y': 'S3', 'z': 'S3', 'b': 'S0', 'c': 'S3', 'd': 'S3', 'e': 'S3', 'f': 'S3', 'g': 'S3', 'h': 'S3', 'i': 'S3', 'j': 'S3', 'k': 'S3', 'l': 'S3', 'm': 'S3', 'n': 'S3', 'o': 'S3', 'p': 'S3', 'q': 'S3', 'r': 'S3', 's': 'S3', 't': 'S3', 'u': 'S3', 'a': 'S3', 'v': 'S3', 'w': 'S3', 'x': 'S3'}, 'S3': {'isTerminatingState': True, 'c': 'S4'}, 'S4': {'isTerminatingState': True}}\n"
     ]
    }
   ],
   "source": [
    "regex=\"a*b+[a-z](c?)\"\n",
    "get_all_regex_data(regex)"
   ]
  },
  {
   "cell_type": "code",
   "execution_count": 186,
   "metadata": {},
   "outputs": [
    {
     "name": "stdout",
     "output_type": "stream",
     "text": [
      "[bc]*(cd)+\n",
      "(b|c)*(cd)+\n",
      "(b|c)*.(c.d)+\n",
      "bc|*cd.+.\n",
      "{('S1', 'S13', 'S3', 'S5', 'S7', 'S8', 'S9'): 'S0', ('S1', 'S10', 'S11', 'S13', 'S3', 'S4', 'S5', 'S6', 'S7', 'S8', 'S9'): 'S1', ('S12', 'S13', 'S14', 'S9'): 'S2', ('S10', 'S11'): 'S3', ('S1', 'S13', 'S2', 'S3', 'S5', 'S6', 'S7', 'S8', 'S9'): 'S4'}\n",
      "{'startingState': 'S2', 'S0': {'isTerminatingState': True, 'c': 'S1'}, 'S1': {'isTerminatingState': False, 'd': 'S0'}, 'S2': {'isTerminatingState': False, 'b': 'S2', 'c': 'S3'}, 'S3': {'isTerminatingState': False, 'b': 'S2', 'd': 'S0', 'c': 'S3'}}\n"
     ]
    }
   ],
   "source": [
    "regex=\"[bc]*(cd)+\"\n",
    "get_all_regex_data(regex)"
   ]
  },
  {
   "cell_type": "code",
   "execution_count": 187,
   "metadata": {},
   "outputs": [
    {
     "name": "stdout",
     "output_type": "stream",
     "text": [
      "a+b\n",
      "a+b\n",
      "a+.b\n",
      "a+b.\n",
      "{('S1', 'S3'): 'S0', ('S1', 'S2', 'S3', 'S4', 'S5'): 'S1', ('S6',): 'S2'}\n",
      "{'startingState': 'S2', 'S0': {'isTerminatingState': True}, 'S1': {'isTerminatingState': False, 'a': 'S1', 'b': 'S0'}, 'S2': {'isTerminatingState': False, 'a': 'S1'}}\n"
     ]
    }
   ],
   "source": [
    "regex=\"a+b\"\n",
    "get_all_regex_data(regex)"
   ]
  },
  {
   "cell_type": "code",
   "execution_count": 188,
   "metadata": {},
   "outputs": [
    {
     "name": "stdout",
     "output_type": "stream",
     "text": [
      "a+|b+\n",
      "a+|b+\n",
      "a+|b+\n",
      "a+b+|\n",
      "{('S1', 'S3', 'S5', 'S7', 'S9'): 'S0', ('S10', 'S5', 'S6', 'S7', 'S8'): 'S1', ('S1', 'S10', 'S2', 'S3', 'S4'): 'S2'}\n",
      "{'startingState': 'S0', 'S0': {'isTerminatingState': False, 'a': 'S2', 'b': 'S1'}, 'S1': {'isTerminatingState': True, 'b': 'S1'}, 'S2': {'isTerminatingState': True, 'a': 'S2'}}\n"
     ]
    }
   ],
   "source": [
    "regex=\"a+|b+\"\n",
    "get_all_regex_data(regex)"
   ]
  },
  {
   "cell_type": "code",
   "execution_count": 189,
   "metadata": {},
   "outputs": [
    {
     "name": "stdout",
     "output_type": "stream",
     "text": [
      "a*b*ca\n",
      "a*b*ca\n",
      "a*.b*.c.a\n",
      "a*b*.c.a.\n",
      "{('S1', 'S3', 'S4', 'S5', 'S7', 'S8', 'S9'): 'S0', ('S10', 'S11'): 'S1', ('S12',): 'S2', ('S5', 'S6', 'S7', 'S8', 'S9'): 'S3', ('S1', 'S2', 'S3', 'S4', 'S5', 'S7', 'S8', 'S9'): 'S4'}\n",
      "{'startingState': 'S2', 'S0': {'isTerminatingState': True}, 'S1': {'isTerminatingState': False, 'a': 'S0'}, 'S2': {'isTerminatingState': False, 'a': 'S2', 'b': 'S3', 'c': 'S1'}, 'S3': {'isTerminatingState': False, 'b': 'S3', 'c': 'S1'}}\n"
     ]
    }
   ],
   "source": [
    "regex=\"a*b*ca\"\n",
    "get_all_regex_data(regex)"
   ]
  },
  {
   "cell_type": "code",
   "execution_count": 190,
   "metadata": {},
   "outputs": [
    {
     "name": "stdout",
     "output_type": "stream",
     "text": [
      "ab(b|c)*d+\n",
      "ab(b|c)*d+\n",
      "a.b.(b|c)*.d+\n",
      "ab.bc|*.d+.\n",
      "{('S1',): 'S0', ('S2', 'S3'): 'S1', ('S11', 'S12', 'S13', 'S15', 'S4', 'S5', 'S7', 'S9'): 'S2', ('S10', 'S11', 'S12', 'S13', 'S15', 'S5', 'S7', 'S8', 'S9'): 'S3', ('S10', 'S11', 'S12', 'S13', 'S15', 'S5', 'S6', 'S7', 'S9'): 'S4', ('S13', 'S14', 'S15', 'S16'): 'S5'}\n",
      "{'startingState': 'S3', 'S0': {'isTerminatingState': True, 'd': 'S0'}, 'S1': {'isTerminatingState': False, 'd': 'S0', 'b': 'S1', 'c': 'S1'}, 'S2': {'isTerminatingState': False, 'b': 'S1'}, 'S3': {'isTerminatingState': False, 'a': 'S2'}}\n"
     ]
    }
   ],
   "source": [
    "regex=\"ab(b|c)*d+\"\n",
    "get_all_regex_data(regex)"
   ]
  },
  {
   "cell_type": "code",
   "execution_count": 191,
   "metadata": {},
   "outputs": [
    {
     "name": "stdout",
     "output_type": "stream",
     "text": [
      "a+b*a\n",
      "a+b*a\n",
      "a+.b*.a\n",
      "a+b*.a.\n",
      "{('S1', 'S3'): 'S0', ('S1', 'S2', 'S3', 'S4', 'S5', 'S7', 'S8', 'S9'): 'S1', ('S5', 'S6', 'S7', 'S8', 'S9'): 'S2', ('S10',): 'S3', ('S1', 'S10', 'S2', 'S3', 'S4', 'S5', 'S7', 'S8', 'S9'): 'S4'}\n",
      "{'startingState': 'S4', 'S0': {'isTerminatingState': True, 'a': 'S0', 'b': 'S3'}, 'S1': {'isTerminatingState': True}, 'S2': {'isTerminatingState': False, 'a': 'S0', 'b': 'S3'}, 'S3': {'isTerminatingState': False, 'b': 'S3', 'a': 'S1'}, 'S4': {'isTerminatingState': False, 'a': 'S2'}}\n"
     ]
    }
   ],
   "source": [
    "regex=\"a+b*a\"\n",
    "get_all_regex_data(regex)"
   ]
  },
  {
   "cell_type": "code",
   "execution_count": 192,
   "metadata": {},
   "outputs": [
    {
     "name": "stdout",
     "output_type": "stream",
     "text": [
      "a+b*\n",
      "a+b*\n",
      "a+.b*\n",
      "a+b*.\n",
      "{('S1', 'S3'): 'S0', ('S1', 'S2', 'S3', 'S4', 'S5', 'S7', 'S8'): 'S1', ('S5', 'S6', 'S7', 'S8'): 'S2'}\n",
      "{'startingState': 'S0', 'S0': {'isTerminatingState': False, 'a': 'S1'}, 'S1': {'isTerminatingState': True, 'a': 'S1', 'b': 'S2'}, 'S2': {'isTerminatingState': True, 'b': 'S2'}}\n"
     ]
    }
   ],
   "source": [
    "regex=\"a+b*\"\n",
    "get_all_regex_data(regex)"
   ]
  },
  {
   "cell_type": "code",
   "execution_count": 193,
   "metadata": {},
   "outputs": [
    {
     "name": "stdout",
     "output_type": "stream",
     "text": [
      "a(a|b|c|d|e|f|g|h|i|j|k|l|m|n|o|p|q|r|s|t|u|v|w|x|y|z|A|B|C|D|E|F|G|H|I|J|K|L|M|N|O|P|Q|R|S|T|U|V|W|X|Y|Z|0|1|2|3|4|5|6|7|8|9)b\n",
      "a(a|b|c|d|e|f|g|h|i|j|k|l|m|n|o|p|q|r|s|t|u|v|w|x|y|z|A|B|C|D|E|F|G|H|I|J|K|L|M|N|O|P|Q|R|S|T|U|V|W|X|Y|Z|0|1|2|3|4|5|6|7|8|9)b\n",
      "a.(a|b|c|d|e|f|g|h|i|j|k|l|m|n|o|p|q|r|s|t|u|v|w|x|y|z|A|B|C|D|E|F|G|H|I|J|K|L|M|N|O|P|Q|R|S|T|U|V|W|X|Y|Z|0|1|2|3|4|5|6|7|8|9).b\n",
      "aab|c|d|e|f|g|h|i|j|k|l|m|n|o|p|q|r|s|t|u|v|w|x|y|z|A|B|C|D|E|F|G|H|I|J|K|L|M|N|O|P|Q|R|S|T|U|V|W|X|Y|Z|0|1|2|3|4|5|6|7|8|9|.b.\n",
      "{('S1',): 'S0', ('S101', 'S103', 'S105', 'S107', 'S109', 'S11', 'S111', 'S113', 'S115', 'S117', 'S119', 'S121', 'S123', 'S125', 'S127', 'S129', 'S13', 'S131', 'S133', 'S135', 'S137', 'S139', 'S141', 'S143', 'S145', 'S147', 'S149', 'S15', 'S151', 'S153', 'S155', 'S157', 'S159', 'S161', 'S163', 'S165', 'S167', 'S169', 'S17', 'S171', 'S173', 'S175', 'S177', 'S179', 'S181', 'S183', 'S185', 'S187', 'S189', 'S19', 'S191', 'S193', 'S195', 'S197', 'S199', 'S2', 'S201', 'S203', 'S205', 'S207', 'S209', 'S21', 'S211', 'S213', 'S215', 'S217', 'S219', 'S221', 'S223', 'S225', 'S227', 'S229', 'S23', 'S231', 'S233', 'S235', 'S237', 'S239', 'S241', 'S243', 'S245', 'S247', 'S25', 'S27', 'S29', 'S3', 'S31', 'S33', 'S35', 'S37', 'S39', 'S41', 'S43', 'S45', 'S47', 'S49', 'S5', 'S51', 'S53', 'S55', 'S57', 'S59', 'S61', 'S63', 'S65', 'S67', 'S69', 'S7', 'S71', 'S73', 'S75', 'S77', 'S79', 'S81', 'S83', 'S85', 'S87', 'S89', 'S9', 'S91', 'S93', 'S95', 'S97', 'S99'): 'S1', ('S100', 'S104', 'S108', 'S112', 'S116', 'S120', 'S124', 'S128', 'S132', 'S136', 'S140', 'S144', 'S148', 'S152', 'S156', 'S160', 'S164', 'S168', 'S172', 'S176', 'S180', 'S184', 'S188', 'S192', 'S196', 'S200', 'S204', 'S208', 'S212', 'S216', 'S220', 'S224', 'S228', 'S232', 'S236', 'S240', 'S244', 'S248', 'S249', 'S98'): 'S2', ('S250',): 'S3', ('S100', 'S104', 'S108', 'S112', 'S116', 'S120', 'S124', 'S128', 'S132', 'S136', 'S140', 'S144', 'S148', 'S152', 'S156', 'S160', 'S164', 'S168', 'S172', 'S176', 'S180', 'S184', 'S188', 'S192', 'S196', 'S200', 'S204', 'S208', 'S212', 'S216', 'S220', 'S224', 'S228', 'S232', 'S236', 'S240', 'S244', 'S248', 'S249', 'S94', 'S96'): 'S4', ('S10', 'S100', 'S104', 'S108', 'S112', 'S116', 'S12', 'S120', 'S124', 'S128', 'S132', 'S136', 'S140', 'S144', 'S148', 'S152', 'S156', 'S16', 'S160', 'S164', 'S168', 'S172', 'S176', 'S180', 'S184', 'S188', 'S192', 'S196', 'S20', 'S200', 'S204', 'S208', 'S212', 'S216', 'S220', 'S224', 'S228', 'S232', 'S236', 'S24', 'S240', 'S244', 'S248', 'S249', 'S28', 'S32', 'S36', 'S40', 'S44', 'S48', 'S52', 'S56', 'S60', 'S64', 'S68', 'S72', 'S76', 'S80', 'S84', 'S88', 'S92', 'S96'): 'S5', ('S100', 'S104', 'S108', 'S112', 'S116', 'S120', 'S124', 'S128', 'S132', 'S136', 'S140', 'S144', 'S148', 'S152', 'S156', 'S160', 'S164', 'S168', 'S172', 'S176', 'S180', 'S184', 'S188', 'S192', 'S196', 'S200', 'S204', 'S208', 'S212', 'S216', 'S220', 'S224', 'S228', 'S232', 'S236', 'S240', 'S244', 'S248', 'S249', 'S90', 'S92', 'S96'): 'S6', ('S100', 'S104', 'S108', 'S112', 'S116', 'S120', 'S124', 'S128', 'S132', 'S136', 'S140', 'S144', 'S148', 'S152', 'S156', 'S160', 'S164', 'S168', 'S172', 'S176', 'S180', 'S184', 'S188', 'S192', 'S196', 'S200', 'S204', 'S208', 'S212', 'S216', 'S220', 'S224', 'S228', 'S232', 'S236', 'S240', 'S244', 'S248', 'S249', 'S86', 'S88', 'S92', 'S96'): 'S7', ('S100', 'S104', 'S108', 'S112', 'S116', 'S120', 'S124', 'S128', 'S132', 'S136', 'S140', 'S144', 'S148', 'S152', 'S156', 'S160', 'S164', 'S168', 'S172', 'S176', 'S180', 'S184', 'S188', 'S192', 'S196', 'S200', 'S204', 'S208', 'S212', 'S216', 'S220', 'S224', 'S228', 'S232', 'S236', 'S240', 'S244', 'S248', 'S249', 'S82', 'S84', 'S88', 'S92', 'S96'): 'S8', ('S100', 'S104', 'S108', 'S112', 'S116', 'S120', 'S124', 'S128', 'S132', 'S136', 'S140', 'S144', 'S148', 'S152', 'S156', 'S160', 'S164', 'S168', 'S172', 'S176', 'S180', 'S184', 'S188', 'S192', 'S196', 'S200', 'S204', 'S208', 'S212', 'S216', 'S220', 'S224', 'S228', 'S232', 'S236', 'S240', 'S244', 'S248', 'S249', 'S78', 'S80', 'S84', 'S88', 'S92', 'S96'): 'S9', ('S100', 'S104', 'S108', 'S112', 'S116', 'S120', 'S124', 'S128', 'S132', 'S136', 'S140', 'S144', 'S148', 'S152', 'S156', 'S160', 'S164', 'S168', 'S172', 'S176', 'S180', 'S184', 'S188', 'S192', 'S196', 'S200', 'S204', 'S208', 'S212', 'S216', 'S220', 'S224', 'S228', 'S232', 'S236', 'S240', 'S244', 'S248', 'S249', 'S74', 'S76', 'S80', 'S84', 'S88', 'S92', 'S96'): 'S10', ('S100', 'S104', 'S108', 'S112', 'S116', 'S120', 'S124', 'S128', 'S132', 'S136', 'S140', 'S144', 'S148', 'S152', 'S156', 'S160', 'S164', 'S168', 'S172', 'S176', 'S180', 'S184', 'S188', 'S192', 'S196', 'S200', 'S204', 'S208', 'S212', 'S216', 'S220', 'S224', 'S228', 'S232', 'S236', 'S240', 'S244', 'S248', 'S249', 'S70', 'S72', 'S76', 'S80', 'S84', 'S88', 'S92', 'S96'): 'S11', ('S100', 'S104', 'S108', 'S112', 'S116', 'S120', 'S124', 'S128', 'S132', 'S136', 'S140', 'S144', 'S148', 'S152', 'S156', 'S160', 'S164', 'S168', 'S172', 'S176', 'S180', 'S184', 'S188', 'S192', 'S196', 'S200', 'S204', 'S208', 'S212', 'S216', 'S220', 'S224', 'S228', 'S232', 'S236', 'S240', 'S244', 'S248', 'S249', 'S66', 'S68', 'S72', 'S76', 'S80', 'S84', 'S88', 'S92', 'S96'): 'S12', ('S100', 'S104', 'S108', 'S112', 'S116', 'S120', 'S124', 'S128', 'S132', 'S136', 'S140', 'S144', 'S148', 'S152', 'S156', 'S160', 'S164', 'S168', 'S172', 'S176', 'S180', 'S184', 'S188', 'S192', 'S196', 'S200', 'S204', 'S208', 'S212', 'S216', 'S220', 'S224', 'S228', 'S232', 'S236', 'S240', 'S244', 'S248', 'S249', 'S62', 'S64', 'S68', 'S72', 'S76', 'S80', 'S84', 'S88', 'S92', 'S96'): 'S13', ('S100', 'S104', 'S108', 'S112', 'S116', 'S120', 'S124', 'S128', 'S132', 'S136', 'S140', 'S144', 'S148', 'S152', 'S156', 'S160', 'S164', 'S168', 'S172', 'S176', 'S180', 'S184', 'S188', 'S192', 'S196', 'S200', 'S204', 'S208', 'S212', 'S216', 'S220', 'S224', 'S228', 'S232', 'S236', 'S240', 'S244', 'S248', 'S249', 'S58', 'S60', 'S64', 'S68', 'S72', 'S76', 'S80', 'S84', 'S88', 'S92', 'S96'): 'S14', ('S100', 'S104', 'S108', 'S112', 'S116', 'S120', 'S124', 'S128', 'S132', 'S136', 'S140', 'S144', 'S148', 'S152', 'S156', 'S160', 'S164', 'S168', 'S172', 'S176', 'S180', 'S184', 'S188', 'S192', 'S196', 'S200', 'S204', 'S208', 'S212', 'S216', 'S220', 'S224', 'S228', 'S232', 'S236', 'S240', 'S244', 'S248', 'S249', 'S54', 'S56', 'S60', 'S64', 'S68', 'S72', 'S76', 'S80', 'S84', 'S88', 'S92', 'S96'): 'S15', ('S100', 'S104', 'S108', 'S112', 'S116', 'S12', 'S120', 'S124', 'S128', 'S132', 'S136', 'S140', 'S144', 'S148', 'S152', 'S156', 'S16', 'S160', 'S164', 'S168', 'S172', 'S176', 'S180', 'S184', 'S188', 'S192', 'S196', 'S20', 'S200', 'S204', 'S208', 'S212', 'S216', 'S220', 'S224', 'S228', 'S232', 'S236', 'S24', 'S240', 'S244', 'S248', 'S249', 'S28', 'S32', 'S36', 'S40', 'S44', 'S48', 'S52', 'S56', 'S6', 'S60', 'S64', 'S68', 'S72', 'S76', 'S8', 'S80', 'S84', 'S88', 'S92', 'S96'): 'S16', ('S100', 'S104', 'S108', 'S112', 'S116', 'S120', 'S124', 'S128', 'S132', 'S136', 'S140', 'S144', 'S148', 'S152', 'S156', 'S160', 'S164', 'S168', 'S172', 'S176', 'S180', 'S184', 'S188', 'S192', 'S196', 'S200', 'S204', 'S208', 'S212', 'S216', 'S220', 'S224', 'S228', 'S232', 'S236', 'S240', 'S244', 'S248', 'S249', 'S50', 'S52', 'S56', 'S60', 'S64', 'S68', 'S72', 'S76', 'S80', 'S84', 'S88', 'S92', 'S96'): 'S17', ('S100', 'S104', 'S108', 'S112', 'S116', 'S120', 'S124', 'S128', 'S132', 'S136', 'S140', 'S144', 'S148', 'S152', 'S156', 'S160', 'S164', 'S168', 'S172', 'S176', 'S180', 'S184', 'S188', 'S192', 'S196', 'S200', 'S204', 'S208', 'S212', 'S216', 'S220', 'S224', 'S228', 'S232', 'S236', 'S240', 'S244', 'S248', 'S249', 'S46', 'S48', 'S52', 'S56', 'S60', 'S64', 'S68', 'S72', 'S76', 'S80', 'S84', 'S88', 'S92', 'S96'): 'S18', ('S100', 'S104', 'S108', 'S112', 'S116', 'S120', 'S124', 'S128', 'S132', 'S136', 'S140', 'S144', 'S148', 'S152', 'S156', 'S160', 'S164', 'S168', 'S172', 'S176', 'S180', 'S184', 'S188', 'S192', 'S196', 'S200', 'S204', 'S208', 'S212', 'S216', 'S220', 'S224', 'S228', 'S232', 'S236', 'S240', 'S244', 'S248', 'S249', 'S42', 'S44', 'S48', 'S52', 'S56', 'S60', 'S64', 'S68', 'S72', 'S76', 'S80', 'S84', 'S88', 'S92', 'S96'): 'S19', ('S100', 'S104', 'S108', 'S112', 'S116', 'S120', 'S124', 'S128', 'S132', 'S136', 'S140', 'S144', 'S148', 'S152', 'S156', 'S160', 'S164', 'S168', 'S172', 'S176', 'S180', 'S184', 'S188', 'S192', 'S196', 'S200', 'S204', 'S208', 'S212', 'S216', 'S220', 'S224', 'S228', 'S232', 'S236', 'S240', 'S244', 'S248', 'S249', 'S38', 'S40', 'S44', 'S48', 'S52', 'S56', 'S60', 'S64', 'S68', 'S72', 'S76', 'S80', 'S84', 'S88', 'S92', 'S96'): 'S20', ('S100', 'S104', 'S108', 'S112', 'S116', 'S120', 'S124', 'S128', 'S132', 'S136', 'S140', 'S144', 'S148', 'S152', 'S156', 'S160', 'S164', 'S168', 'S172', 'S176', 'S180', 'S184', 'S188', 'S192', 'S196', 'S200', 'S204', 'S208', 'S212', 'S216', 'S220', 'S224', 'S228', 'S232', 'S236', 'S240', 'S244', 'S248', 'S249', 'S34', 'S36', 'S40', 'S44', 'S48', 'S52', 'S56', 'S60', 'S64', 'S68', 'S72', 'S76', 'S80', 'S84', 'S88', 'S92', 'S96'): 'S21', ('S100', 'S104', 'S108', 'S112', 'S116', 'S12', 'S120', 'S124', 'S128', 'S132', 'S136', 'S140', 'S144', 'S148', 'S152', 'S156', 'S16', 'S160', 'S164', 'S168', 'S172', 'S176', 'S180', 'S184', 'S188', 'S192', 'S196', 'S20', 'S200', 'S204', 'S208', 'S212', 'S216', 'S220', 'S224', 'S228', 'S232', 'S236', 'S24', 'S240', 'S244', 'S248', 'S249', 'S28', 'S32', 'S36', 'S4', 'S40', 'S44', 'S48', 'S52', 'S56', 'S60', 'S64', 'S68', 'S72', 'S76', 'S8', 'S80', 'S84', 'S88', 'S92', 'S96'): 'S22', ('S100', 'S104', 'S108', 'S112', 'S116', 'S120', 'S124', 'S128', 'S132', 'S136', 'S140', 'S144', 'S148', 'S152', 'S156', 'S160', 'S164', 'S168', 'S172', 'S176', 'S180', 'S184', 'S188', 'S192', 'S196', 'S200', 'S204', 'S208', 'S212', 'S216', 'S220', 'S224', 'S228', 'S232', 'S236', 'S240', 'S244', 'S248', 'S249', 'S30', 'S32', 'S36', 'S40', 'S44', 'S48', 'S52', 'S56', 'S60', 'S64', 'S68', 'S72', 'S76', 'S80', 'S84', 'S88', 'S92', 'S96'): 'S23', ('S100', 'S104', 'S108', 'S112', 'S116', 'S120', 'S124', 'S128', 'S132', 'S136', 'S140', 'S144', 'S148', 'S152', 'S156', 'S160', 'S164', 'S168', 'S172', 'S176', 'S180', 'S184', 'S188', 'S192', 'S196', 'S200', 'S204', 'S208', 'S212', 'S216', 'S220', 'S224', 'S228', 'S232', 'S236', 'S240', 'S244', 'S248', 'S249', 'S26', 'S28', 'S32', 'S36', 'S40', 'S44', 'S48', 'S52', 'S56', 'S60', 'S64', 'S68', 'S72', 'S76', 'S80', 'S84', 'S88', 'S92', 'S96'): 'S24', ('S246', 'S248', 'S249'): 'S25', ('S242', 'S244', 'S248', 'S249'): 'S26', ('S238', 'S240', 'S244', 'S248', 'S249'): 'S27', ('S234', 'S236', 'S240', 'S244', 'S248', 'S249'): 'S28', ('S230', 'S232', 'S236', 'S240', 'S244', 'S248', 'S249'): 'S29', ('S226', 'S228', 'S232', 'S236', 'S240', 'S244', 'S248', 'S249'): 'S30', ('S222', 'S224', 'S228', 'S232', 'S236', 'S240', 'S244', 'S248', 'S249'): 'S31', ('S218', 'S220', 'S224', 'S228', 'S232', 'S236', 'S240', 'S244', 'S248', 'S249'): 'S32', ('S214', 'S216', 'S220', 'S224', 'S228', 'S232', 'S236', 'S240', 'S244', 'S248', 'S249'): 'S33', ('S100', 'S104', 'S108', 'S112', 'S116', 'S120', 'S124', 'S128', 'S132', 'S136', 'S140', 'S144', 'S148', 'S152', 'S156', 'S160', 'S164', 'S168', 'S172', 'S176', 'S180', 'S184', 'S188', 'S192', 'S196', 'S200', 'S204', 'S208', 'S212', 'S216', 'S22', 'S220', 'S224', 'S228', 'S232', 'S236', 'S24', 'S240', 'S244', 'S248', 'S249', 'S28', 'S32', 'S36', 'S40', 'S44', 'S48', 'S52', 'S56', 'S60', 'S64', 'S68', 'S72', 'S76', 'S80', 'S84', 'S88', 'S92', 'S96'): 'S34', ('S210', 'S212', 'S216', 'S220', 'S224', 'S228', 'S232', 'S236', 'S240', 'S244', 'S248', 'S249'): 'S35', ('S206', 'S208', 'S212', 'S216', 'S220', 'S224', 'S228', 'S232', 'S236', 'S240', 'S244', 'S248', 'S249'): 'S36', ('S202', 'S204', 'S208', 'S212', 'S216', 'S220', 'S224', 'S228', 'S232', 'S236', 'S240', 'S244', 'S248', 'S249'): 'S37', ('S198', 'S200', 'S204', 'S208', 'S212', 'S216', 'S220', 'S224', 'S228', 'S232', 'S236', 'S240', 'S244', 'S248', 'S249'): 'S38', ('S194', 'S196', 'S200', 'S204', 'S208', 'S212', 'S216', 'S220', 'S224', 'S228', 'S232', 'S236', 'S240', 'S244', 'S248', 'S249'): 'S39', ('S190', 'S192', 'S196', 'S200', 'S204', 'S208', 'S212', 'S216', 'S220', 'S224', 'S228', 'S232', 'S236', 'S240', 'S244', 'S248', 'S249'): 'S40', ('S186', 'S188', 'S192', 'S196', 'S200', 'S204', 'S208', 'S212', 'S216', 'S220', 'S224', 'S228', 'S232', 'S236', 'S240', 'S244', 'S248', 'S249'): 'S41', ('S182', 'S184', 'S188', 'S192', 'S196', 'S200', 'S204', 'S208', 'S212', 'S216', 'S220', 'S224', 'S228', 'S232', 'S236', 'S240', 'S244', 'S248', 'S249'): 'S42', ('S178', 'S180', 'S184', 'S188', 'S192', 'S196', 'S200', 'S204', 'S208', 'S212', 'S216', 'S220', 'S224', 'S228', 'S232', 'S236', 'S240', 'S244', 'S248', 'S249'): 'S43', ('S174', 'S176', 'S180', 'S184', 'S188', 'S192', 'S196', 'S200', 'S204', 'S208', 'S212', 'S216', 'S220', 'S224', 'S228', 'S232', 'S236', 'S240', 'S244', 'S248', 'S249'): 'S44', ('S100', 'S104', 'S108', 'S112', 'S116', 'S120', 'S124', 'S128', 'S132', 'S136', 'S140', 'S144', 'S148', 'S152', 'S156', 'S160', 'S164', 'S168', 'S172', 'S176', 'S18', 'S180', 'S184', 'S188', 'S192', 'S196', 'S20', 'S200', 'S204', 'S208', 'S212', 'S216', 'S220', 'S224', 'S228', 'S232', 'S236', 'S24', 'S240', 'S244', 'S248', 'S249', 'S28', 'S32', 'S36', 'S40', 'S44', 'S48', 'S52', 'S56', 'S60', 'S64', 'S68', 'S72', 'S76', 'S80', 'S84', 'S88', 'S92', 'S96'): 'S45', ('S170', 'S172', 'S176', 'S180', 'S184', 'S188', 'S192', 'S196', 'S200', 'S204', 'S208', 'S212', 'S216', 'S220', 'S224', 'S228', 'S232', 'S236', 'S240', 'S244', 'S248', 'S249'): 'S46', ('S166', 'S168', 'S172', 'S176', 'S180', 'S184', 'S188', 'S192', 'S196', 'S200', 'S204', 'S208', 'S212', 'S216', 'S220', 'S224', 'S228', 'S232', 'S236', 'S240', 'S244', 'S248', 'S249'): 'S47', ('S162', 'S164', 'S168', 'S172', 'S176', 'S180', 'S184', 'S188', 'S192', 'S196', 'S200', 'S204', 'S208', 'S212', 'S216', 'S220', 'S224', 'S228', 'S232', 'S236', 'S240', 'S244', 'S248', 'S249'): 'S48', ('S158', 'S160', 'S164', 'S168', 'S172', 'S176', 'S180', 'S184', 'S188', 'S192', 'S196', 'S200', 'S204', 'S208', 'S212', 'S216', 'S220', 'S224', 'S228', 'S232', 'S236', 'S240', 'S244', 'S248', 'S249'): 'S49', ('S154', 'S156', 'S160', 'S164', 'S168', 'S172', 'S176', 'S180', 'S184', 'S188', 'S192', 'S196', 'S200', 'S204', 'S208', 'S212', 'S216', 'S220', 'S224', 'S228', 'S232', 'S236', 'S240', 'S244', 'S248', 'S249'): 'S50', ('S150', 'S152', 'S156', 'S160', 'S164', 'S168', 'S172', 'S176', 'S180', 'S184', 'S188', 'S192', 'S196', 'S200', 'S204', 'S208', 'S212', 'S216', 'S220', 'S224', 'S228', 'S232', 'S236', 'S240', 'S244', 'S248', 'S249'): 'S51', ('S146', 'S148', 'S152', 'S156', 'S160', 'S164', 'S168', 'S172', 'S176', 'S180', 'S184', 'S188', 'S192', 'S196', 'S200', 'S204', 'S208', 'S212', 'S216', 'S220', 'S224', 'S228', 'S232', 'S236', 'S240', 'S244', 'S248', 'S249'): 'S52', ('S142', 'S144', 'S148', 'S152', 'S156', 'S160', 'S164', 'S168', 'S172', 'S176', 'S180', 'S184', 'S188', 'S192', 'S196', 'S200', 'S204', 'S208', 'S212', 'S216', 'S220', 'S224', 'S228', 'S232', 'S236', 'S240', 'S244', 'S248', 'S249'): 'S53', ('S138', 'S140', 'S144', 'S148', 'S152', 'S156', 'S160', 'S164', 'S168', 'S172', 'S176', 'S180', 'S184', 'S188', 'S192', 'S196', 'S200', 'S204', 'S208', 'S212', 'S216', 'S220', 'S224', 'S228', 'S232', 'S236', 'S240', 'S244', 'S248', 'S249'): 'S54', ('S134', 'S136', 'S140', 'S144', 'S148', 'S152', 'S156', 'S160', 'S164', 'S168', 'S172', 'S176', 'S180', 'S184', 'S188', 'S192', 'S196', 'S200', 'S204', 'S208', 'S212', 'S216', 'S220', 'S224', 'S228', 'S232', 'S236', 'S240', 'S244', 'S248', 'S249'): 'S55', ('S100', 'S104', 'S108', 'S112', 'S116', 'S120', 'S124', 'S128', 'S132', 'S136', 'S14', 'S140', 'S144', 'S148', 'S152', 'S156', 'S16', 'S160', 'S164', 'S168', 'S172', 'S176', 'S180', 'S184', 'S188', 'S192', 'S196', 'S20', 'S200', 'S204', 'S208', 'S212', 'S216', 'S220', 'S224', 'S228', 'S232', 'S236', 'S24', 'S240', 'S244', 'S248', 'S249', 'S28', 'S32', 'S36', 'S40', 'S44', 'S48', 'S52', 'S56', 'S60', 'S64', 'S68', 'S72', 'S76', 'S80', 'S84', 'S88', 'S92', 'S96'): 'S56', ('S130', 'S132', 'S136', 'S140', 'S144', 'S148', 'S152', 'S156', 'S160', 'S164', 'S168', 'S172', 'S176', 'S180', 'S184', 'S188', 'S192', 'S196', 'S200', 'S204', 'S208', 'S212', 'S216', 'S220', 'S224', 'S228', 'S232', 'S236', 'S240', 'S244', 'S248', 'S249'): 'S57', ('S126', 'S128', 'S132', 'S136', 'S140', 'S144', 'S148', 'S152', 'S156', 'S160', 'S164', 'S168', 'S172', 'S176', 'S180', 'S184', 'S188', 'S192', 'S196', 'S200', 'S204', 'S208', 'S212', 'S216', 'S220', 'S224', 'S228', 'S232', 'S236', 'S240', 'S244', 'S248', 'S249'): 'S58', ('S122', 'S124', 'S128', 'S132', 'S136', 'S140', 'S144', 'S148', 'S152', 'S156', 'S160', 'S164', 'S168', 'S172', 'S176', 'S180', 'S184', 'S188', 'S192', 'S196', 'S200', 'S204', 'S208', 'S212', 'S216', 'S220', 'S224', 'S228', 'S232', 'S236', 'S240', 'S244', 'S248', 'S249'): 'S59', ('S118', 'S120', 'S124', 'S128', 'S132', 'S136', 'S140', 'S144', 'S148', 'S152', 'S156', 'S160', 'S164', 'S168', 'S172', 'S176', 'S180', 'S184', 'S188', 'S192', 'S196', 'S200', 'S204', 'S208', 'S212', 'S216', 'S220', 'S224', 'S228', 'S232', 'S236', 'S240', 'S244', 'S248', 'S249'): 'S60', ('S114', 'S116', 'S120', 'S124', 'S128', 'S132', 'S136', 'S140', 'S144', 'S148', 'S152', 'S156', 'S160', 'S164', 'S168', 'S172', 'S176', 'S180', 'S184', 'S188', 'S192', 'S196', 'S200', 'S204', 'S208', 'S212', 'S216', 'S220', 'S224', 'S228', 'S232', 'S236', 'S240', 'S244', 'S248', 'S249'): 'S61', ('S110', 'S112', 'S116', 'S120', 'S124', 'S128', 'S132', 'S136', 'S140', 'S144', 'S148', 'S152', 'S156', 'S160', 'S164', 'S168', 'S172', 'S176', 'S180', 'S184', 'S188', 'S192', 'S196', 'S200', 'S204', 'S208', 'S212', 'S216', 'S220', 'S224', 'S228', 'S232', 'S236', 'S240', 'S244', 'S248', 'S249'): 'S62', ('S106', 'S108', 'S112', 'S116', 'S120', 'S124', 'S128', 'S132', 'S136', 'S140', 'S144', 'S148', 'S152', 'S156', 'S160', 'S164', 'S168', 'S172', 'S176', 'S180', 'S184', 'S188', 'S192', 'S196', 'S200', 'S204', 'S208', 'S212', 'S216', 'S220', 'S224', 'S228', 'S232', 'S236', 'S240', 'S244', 'S248', 'S249'): 'S63', ('S102', 'S104', 'S108', 'S112', 'S116', 'S120', 'S124', 'S128', 'S132', 'S136', 'S140', 'S144', 'S148', 'S152', 'S156', 'S160', 'S164', 'S168', 'S172', 'S176', 'S180', 'S184', 'S188', 'S192', 'S196', 'S200', 'S204', 'S208', 'S212', 'S216', 'S220', 'S224', 'S228', 'S232', 'S236', 'S240', 'S244', 'S248', 'S249'): 'S64'}\n",
      "{'startingState': 'S3', 'S0': {'isTerminatingState': True}, 'S1': {'isTerminatingState': False, 'z': 'S2', 'A': 'S2', 'B': 'S2', 'C': 'S2', 'D': 'S2', 'E': 'S2', 'F': 'S2', 'G': 'S2', 'd': 'S2', 'H': 'S2', 'I': 'S2', 'J': 'S2', 'K': 'S2', 'L': 'S2', 'M': 'S2', 'N': 'S2', 'O': 'S2', 'P': 'S2', 'Q': 'S2', 'e': 'S2', 'R': 'S2', 'S': 'S2', 'T': 'S2', 'U': 'S2', 'V': 'S2', 'W': 'S2', 'X': 'S2', 'Y': 'S2', 'Z': 'S2', '0': 'S2', 'f': 'S2', '1': 'S2', '2': 'S2', '3': 'S2', '4': 'S2', '5': 'S2', '6': 'S2', '7': 'S2', '8': 'S2', '9': 'S2', 'g': 'S2', 'h': 'S2', 'a': 'S2', 'i': 'S2', 'j': 'S2', 'k': 'S2', 'l': 'S2', 'm': 'S2', 'b': 'S2', 'n': 'S2', 'o': 'S2', 'p': 'S2', 'q': 'S2', 'r': 'S2', 's': 'S2', 't': 'S2', 'u': 'S2', 'v': 'S2', 'w': 'S2', 'c': 'S2', 'x': 'S2', 'y': 'S2'}, 'S2': {'isTerminatingState': False, 'b': 'S0'}, 'S3': {'isTerminatingState': False, 'a': 'S1'}}\n"
     ]
    }
   ],
   "source": [
    "regex=\"a.b\"\n",
    "get_all_regex_data(regex)"
   ]
  },
  {
   "cell_type": "code",
   "execution_count": 194,
   "metadata": {},
   "outputs": [
    {
     "name": "stdout",
     "output_type": "stream",
     "text": [
      "a(a|b|c|d|e|f|g|h|i|j|k|l|m|n|o|p|q|r|s|t|u|v|w|x|y|z|A|B|C|D|E|F|G|H|I|J|K|L|M|N|O|P|Q|R|S|T|U|V|W|X|Y|Z|0|1|2|3|4|5|6|7|8|9)b\n",
      "a(a|b|c|d|e|f|g|h|i|j|k|l|m|n|o|p|q|r|s|t|u|v|w|x|y|z|A|B|C|D|E|F|G|H|I|J|K|L|M|N|O|P|Q|R|S|T|U|V|W|X|Y|Z|0|1|2|3|4|5|6|7|8|9)b\n",
      "a.(a|b|c|d|e|f|g|h|i|j|k|l|m|n|o|p|q|r|s|t|u|v|w|x|y|z|A|B|C|D|E|F|G|H|I|J|K|L|M|N|O|P|Q|R|S|T|U|V|W|X|Y|Z|0|1|2|3|4|5|6|7|8|9).b\n",
      "aab|c|d|e|f|g|h|i|j|k|l|m|n|o|p|q|r|s|t|u|v|w|x|y|z|A|B|C|D|E|F|G|H|I|J|K|L|M|N|O|P|Q|R|S|T|U|V|W|X|Y|Z|0|1|2|3|4|5|6|7|8|9|.b.\n",
      "{('S1',): 'S0', ('S101', 'S103', 'S105', 'S107', 'S109', 'S11', 'S111', 'S113', 'S115', 'S117', 'S119', 'S121', 'S123', 'S125', 'S127', 'S129', 'S13', 'S131', 'S133', 'S135', 'S137', 'S139', 'S141', 'S143', 'S145', 'S147', 'S149', 'S15', 'S151', 'S153', 'S155', 'S157', 'S159', 'S161', 'S163', 'S165', 'S167', 'S169', 'S17', 'S171', 'S173', 'S175', 'S177', 'S179', 'S181', 'S183', 'S185', 'S187', 'S189', 'S19', 'S191', 'S193', 'S195', 'S197', 'S199', 'S2', 'S201', 'S203', 'S205', 'S207', 'S209', 'S21', 'S211', 'S213', 'S215', 'S217', 'S219', 'S221', 'S223', 'S225', 'S227', 'S229', 'S23', 'S231', 'S233', 'S235', 'S237', 'S239', 'S241', 'S243', 'S245', 'S247', 'S25', 'S27', 'S29', 'S3', 'S31', 'S33', 'S35', 'S37', 'S39', 'S41', 'S43', 'S45', 'S47', 'S49', 'S5', 'S51', 'S53', 'S55', 'S57', 'S59', 'S61', 'S63', 'S65', 'S67', 'S69', 'S7', 'S71', 'S73', 'S75', 'S77', 'S79', 'S81', 'S83', 'S85', 'S87', 'S89', 'S9', 'S91', 'S93', 'S95', 'S97', 'S99'): 'S1', ('S100', 'S104', 'S108', 'S112', 'S116', 'S120', 'S124', 'S128', 'S132', 'S136', 'S140', 'S144', 'S148', 'S152', 'S156', 'S160', 'S164', 'S168', 'S172', 'S176', 'S180', 'S184', 'S188', 'S192', 'S196', 'S200', 'S204', 'S208', 'S212', 'S216', 'S220', 'S224', 'S228', 'S232', 'S236', 'S240', 'S244', 'S248', 'S249', 'S98'): 'S2', ('S250',): 'S3', ('S100', 'S104', 'S108', 'S112', 'S116', 'S120', 'S124', 'S128', 'S132', 'S136', 'S140', 'S144', 'S148', 'S152', 'S156', 'S160', 'S164', 'S168', 'S172', 'S176', 'S180', 'S184', 'S188', 'S192', 'S196', 'S200', 'S204', 'S208', 'S212', 'S216', 'S220', 'S224', 'S228', 'S232', 'S236', 'S240', 'S244', 'S248', 'S249', 'S94', 'S96'): 'S4', ('S10', 'S100', 'S104', 'S108', 'S112', 'S116', 'S12', 'S120', 'S124', 'S128', 'S132', 'S136', 'S140', 'S144', 'S148', 'S152', 'S156', 'S16', 'S160', 'S164', 'S168', 'S172', 'S176', 'S180', 'S184', 'S188', 'S192', 'S196', 'S20', 'S200', 'S204', 'S208', 'S212', 'S216', 'S220', 'S224', 'S228', 'S232', 'S236', 'S24', 'S240', 'S244', 'S248', 'S249', 'S28', 'S32', 'S36', 'S40', 'S44', 'S48', 'S52', 'S56', 'S60', 'S64', 'S68', 'S72', 'S76', 'S80', 'S84', 'S88', 'S92', 'S96'): 'S5', ('S100', 'S104', 'S108', 'S112', 'S116', 'S120', 'S124', 'S128', 'S132', 'S136', 'S140', 'S144', 'S148', 'S152', 'S156', 'S160', 'S164', 'S168', 'S172', 'S176', 'S180', 'S184', 'S188', 'S192', 'S196', 'S200', 'S204', 'S208', 'S212', 'S216', 'S220', 'S224', 'S228', 'S232', 'S236', 'S240', 'S244', 'S248', 'S249', 'S90', 'S92', 'S96'): 'S6', ('S100', 'S104', 'S108', 'S112', 'S116', 'S120', 'S124', 'S128', 'S132', 'S136', 'S140', 'S144', 'S148', 'S152', 'S156', 'S160', 'S164', 'S168', 'S172', 'S176', 'S180', 'S184', 'S188', 'S192', 'S196', 'S200', 'S204', 'S208', 'S212', 'S216', 'S220', 'S224', 'S228', 'S232', 'S236', 'S240', 'S244', 'S248', 'S249', 'S86', 'S88', 'S92', 'S96'): 'S7', ('S100', 'S104', 'S108', 'S112', 'S116', 'S120', 'S124', 'S128', 'S132', 'S136', 'S140', 'S144', 'S148', 'S152', 'S156', 'S160', 'S164', 'S168', 'S172', 'S176', 'S180', 'S184', 'S188', 'S192', 'S196', 'S200', 'S204', 'S208', 'S212', 'S216', 'S220', 'S224', 'S228', 'S232', 'S236', 'S240', 'S244', 'S248', 'S249', 'S82', 'S84', 'S88', 'S92', 'S96'): 'S8', ('S100', 'S104', 'S108', 'S112', 'S116', 'S120', 'S124', 'S128', 'S132', 'S136', 'S140', 'S144', 'S148', 'S152', 'S156', 'S160', 'S164', 'S168', 'S172', 'S176', 'S180', 'S184', 'S188', 'S192', 'S196', 'S200', 'S204', 'S208', 'S212', 'S216', 'S220', 'S224', 'S228', 'S232', 'S236', 'S240', 'S244', 'S248', 'S249', 'S78', 'S80', 'S84', 'S88', 'S92', 'S96'): 'S9', ('S100', 'S104', 'S108', 'S112', 'S116', 'S120', 'S124', 'S128', 'S132', 'S136', 'S140', 'S144', 'S148', 'S152', 'S156', 'S160', 'S164', 'S168', 'S172', 'S176', 'S180', 'S184', 'S188', 'S192', 'S196', 'S200', 'S204', 'S208', 'S212', 'S216', 'S220', 'S224', 'S228', 'S232', 'S236', 'S240', 'S244', 'S248', 'S249', 'S74', 'S76', 'S80', 'S84', 'S88', 'S92', 'S96'): 'S10', ('S100', 'S104', 'S108', 'S112', 'S116', 'S120', 'S124', 'S128', 'S132', 'S136', 'S140', 'S144', 'S148', 'S152', 'S156', 'S160', 'S164', 'S168', 'S172', 'S176', 'S180', 'S184', 'S188', 'S192', 'S196', 'S200', 'S204', 'S208', 'S212', 'S216', 'S220', 'S224', 'S228', 'S232', 'S236', 'S240', 'S244', 'S248', 'S249', 'S70', 'S72', 'S76', 'S80', 'S84', 'S88', 'S92', 'S96'): 'S11', ('S100', 'S104', 'S108', 'S112', 'S116', 'S120', 'S124', 'S128', 'S132', 'S136', 'S140', 'S144', 'S148', 'S152', 'S156', 'S160', 'S164', 'S168', 'S172', 'S176', 'S180', 'S184', 'S188', 'S192', 'S196', 'S200', 'S204', 'S208', 'S212', 'S216', 'S220', 'S224', 'S228', 'S232', 'S236', 'S240', 'S244', 'S248', 'S249', 'S66', 'S68', 'S72', 'S76', 'S80', 'S84', 'S88', 'S92', 'S96'): 'S12', ('S100', 'S104', 'S108', 'S112', 'S116', 'S120', 'S124', 'S128', 'S132', 'S136', 'S140', 'S144', 'S148', 'S152', 'S156', 'S160', 'S164', 'S168', 'S172', 'S176', 'S180', 'S184', 'S188', 'S192', 'S196', 'S200', 'S204', 'S208', 'S212', 'S216', 'S220', 'S224', 'S228', 'S232', 'S236', 'S240', 'S244', 'S248', 'S249', 'S62', 'S64', 'S68', 'S72', 'S76', 'S80', 'S84', 'S88', 'S92', 'S96'): 'S13', ('S100', 'S104', 'S108', 'S112', 'S116', 'S120', 'S124', 'S128', 'S132', 'S136', 'S140', 'S144', 'S148', 'S152', 'S156', 'S160', 'S164', 'S168', 'S172', 'S176', 'S180', 'S184', 'S188', 'S192', 'S196', 'S200', 'S204', 'S208', 'S212', 'S216', 'S220', 'S224', 'S228', 'S232', 'S236', 'S240', 'S244', 'S248', 'S249', 'S58', 'S60', 'S64', 'S68', 'S72', 'S76', 'S80', 'S84', 'S88', 'S92', 'S96'): 'S14', ('S100', 'S104', 'S108', 'S112', 'S116', 'S120', 'S124', 'S128', 'S132', 'S136', 'S140', 'S144', 'S148', 'S152', 'S156', 'S160', 'S164', 'S168', 'S172', 'S176', 'S180', 'S184', 'S188', 'S192', 'S196', 'S200', 'S204', 'S208', 'S212', 'S216', 'S220', 'S224', 'S228', 'S232', 'S236', 'S240', 'S244', 'S248', 'S249', 'S54', 'S56', 'S60', 'S64', 'S68', 'S72', 'S76', 'S80', 'S84', 'S88', 'S92', 'S96'): 'S15', ('S100', 'S104', 'S108', 'S112', 'S116', 'S12', 'S120', 'S124', 'S128', 'S132', 'S136', 'S140', 'S144', 'S148', 'S152', 'S156', 'S16', 'S160', 'S164', 'S168', 'S172', 'S176', 'S180', 'S184', 'S188', 'S192', 'S196', 'S20', 'S200', 'S204', 'S208', 'S212', 'S216', 'S220', 'S224', 'S228', 'S232', 'S236', 'S24', 'S240', 'S244', 'S248', 'S249', 'S28', 'S32', 'S36', 'S40', 'S44', 'S48', 'S52', 'S56', 'S6', 'S60', 'S64', 'S68', 'S72', 'S76', 'S8', 'S80', 'S84', 'S88', 'S92', 'S96'): 'S16', ('S100', 'S104', 'S108', 'S112', 'S116', 'S120', 'S124', 'S128', 'S132', 'S136', 'S140', 'S144', 'S148', 'S152', 'S156', 'S160', 'S164', 'S168', 'S172', 'S176', 'S180', 'S184', 'S188', 'S192', 'S196', 'S200', 'S204', 'S208', 'S212', 'S216', 'S220', 'S224', 'S228', 'S232', 'S236', 'S240', 'S244', 'S248', 'S249', 'S50', 'S52', 'S56', 'S60', 'S64', 'S68', 'S72', 'S76', 'S80', 'S84', 'S88', 'S92', 'S96'): 'S17', ('S100', 'S104', 'S108', 'S112', 'S116', 'S120', 'S124', 'S128', 'S132', 'S136', 'S140', 'S144', 'S148', 'S152', 'S156', 'S160', 'S164', 'S168', 'S172', 'S176', 'S180', 'S184', 'S188', 'S192', 'S196', 'S200', 'S204', 'S208', 'S212', 'S216', 'S220', 'S224', 'S228', 'S232', 'S236', 'S240', 'S244', 'S248', 'S249', 'S46', 'S48', 'S52', 'S56', 'S60', 'S64', 'S68', 'S72', 'S76', 'S80', 'S84', 'S88', 'S92', 'S96'): 'S18', ('S100', 'S104', 'S108', 'S112', 'S116', 'S120', 'S124', 'S128', 'S132', 'S136', 'S140', 'S144', 'S148', 'S152', 'S156', 'S160', 'S164', 'S168', 'S172', 'S176', 'S180', 'S184', 'S188', 'S192', 'S196', 'S200', 'S204', 'S208', 'S212', 'S216', 'S220', 'S224', 'S228', 'S232', 'S236', 'S240', 'S244', 'S248', 'S249', 'S42', 'S44', 'S48', 'S52', 'S56', 'S60', 'S64', 'S68', 'S72', 'S76', 'S80', 'S84', 'S88', 'S92', 'S96'): 'S19', ('S100', 'S104', 'S108', 'S112', 'S116', 'S120', 'S124', 'S128', 'S132', 'S136', 'S140', 'S144', 'S148', 'S152', 'S156', 'S160', 'S164', 'S168', 'S172', 'S176', 'S180', 'S184', 'S188', 'S192', 'S196', 'S200', 'S204', 'S208', 'S212', 'S216', 'S220', 'S224', 'S228', 'S232', 'S236', 'S240', 'S244', 'S248', 'S249', 'S38', 'S40', 'S44', 'S48', 'S52', 'S56', 'S60', 'S64', 'S68', 'S72', 'S76', 'S80', 'S84', 'S88', 'S92', 'S96'): 'S20', ('S100', 'S104', 'S108', 'S112', 'S116', 'S120', 'S124', 'S128', 'S132', 'S136', 'S140', 'S144', 'S148', 'S152', 'S156', 'S160', 'S164', 'S168', 'S172', 'S176', 'S180', 'S184', 'S188', 'S192', 'S196', 'S200', 'S204', 'S208', 'S212', 'S216', 'S220', 'S224', 'S228', 'S232', 'S236', 'S240', 'S244', 'S248', 'S249', 'S34', 'S36', 'S40', 'S44', 'S48', 'S52', 'S56', 'S60', 'S64', 'S68', 'S72', 'S76', 'S80', 'S84', 'S88', 'S92', 'S96'): 'S21', ('S100', 'S104', 'S108', 'S112', 'S116', 'S12', 'S120', 'S124', 'S128', 'S132', 'S136', 'S140', 'S144', 'S148', 'S152', 'S156', 'S16', 'S160', 'S164', 'S168', 'S172', 'S176', 'S180', 'S184', 'S188', 'S192', 'S196', 'S20', 'S200', 'S204', 'S208', 'S212', 'S216', 'S220', 'S224', 'S228', 'S232', 'S236', 'S24', 'S240', 'S244', 'S248', 'S249', 'S28', 'S32', 'S36', 'S4', 'S40', 'S44', 'S48', 'S52', 'S56', 'S60', 'S64', 'S68', 'S72', 'S76', 'S8', 'S80', 'S84', 'S88', 'S92', 'S96'): 'S22', ('S100', 'S104', 'S108', 'S112', 'S116', 'S120', 'S124', 'S128', 'S132', 'S136', 'S140', 'S144', 'S148', 'S152', 'S156', 'S160', 'S164', 'S168', 'S172', 'S176', 'S180', 'S184', 'S188', 'S192', 'S196', 'S200', 'S204', 'S208', 'S212', 'S216', 'S220', 'S224', 'S228', 'S232', 'S236', 'S240', 'S244', 'S248', 'S249', 'S30', 'S32', 'S36', 'S40', 'S44', 'S48', 'S52', 'S56', 'S60', 'S64', 'S68', 'S72', 'S76', 'S80', 'S84', 'S88', 'S92', 'S96'): 'S23', ('S100', 'S104', 'S108', 'S112', 'S116', 'S120', 'S124', 'S128', 'S132', 'S136', 'S140', 'S144', 'S148', 'S152', 'S156', 'S160', 'S164', 'S168', 'S172', 'S176', 'S180', 'S184', 'S188', 'S192', 'S196', 'S200', 'S204', 'S208', 'S212', 'S216', 'S220', 'S224', 'S228', 'S232', 'S236', 'S240', 'S244', 'S248', 'S249', 'S26', 'S28', 'S32', 'S36', 'S40', 'S44', 'S48', 'S52', 'S56', 'S60', 'S64', 'S68', 'S72', 'S76', 'S80', 'S84', 'S88', 'S92', 'S96'): 'S24', ('S246', 'S248', 'S249'): 'S25', ('S242', 'S244', 'S248', 'S249'): 'S26', ('S238', 'S240', 'S244', 'S248', 'S249'): 'S27', ('S234', 'S236', 'S240', 'S244', 'S248', 'S249'): 'S28', ('S230', 'S232', 'S236', 'S240', 'S244', 'S248', 'S249'): 'S29', ('S226', 'S228', 'S232', 'S236', 'S240', 'S244', 'S248', 'S249'): 'S30', ('S222', 'S224', 'S228', 'S232', 'S236', 'S240', 'S244', 'S248', 'S249'): 'S31', ('S218', 'S220', 'S224', 'S228', 'S232', 'S236', 'S240', 'S244', 'S248', 'S249'): 'S32', ('S214', 'S216', 'S220', 'S224', 'S228', 'S232', 'S236', 'S240', 'S244', 'S248', 'S249'): 'S33', ('S100', 'S104', 'S108', 'S112', 'S116', 'S120', 'S124', 'S128', 'S132', 'S136', 'S140', 'S144', 'S148', 'S152', 'S156', 'S160', 'S164', 'S168', 'S172', 'S176', 'S180', 'S184', 'S188', 'S192', 'S196', 'S200', 'S204', 'S208', 'S212', 'S216', 'S22', 'S220', 'S224', 'S228', 'S232', 'S236', 'S24', 'S240', 'S244', 'S248', 'S249', 'S28', 'S32', 'S36', 'S40', 'S44', 'S48', 'S52', 'S56', 'S60', 'S64', 'S68', 'S72', 'S76', 'S80', 'S84', 'S88', 'S92', 'S96'): 'S34', ('S210', 'S212', 'S216', 'S220', 'S224', 'S228', 'S232', 'S236', 'S240', 'S244', 'S248', 'S249'): 'S35', ('S206', 'S208', 'S212', 'S216', 'S220', 'S224', 'S228', 'S232', 'S236', 'S240', 'S244', 'S248', 'S249'): 'S36', ('S202', 'S204', 'S208', 'S212', 'S216', 'S220', 'S224', 'S228', 'S232', 'S236', 'S240', 'S244', 'S248', 'S249'): 'S37', ('S198', 'S200', 'S204', 'S208', 'S212', 'S216', 'S220', 'S224', 'S228', 'S232', 'S236', 'S240', 'S244', 'S248', 'S249'): 'S38', ('S194', 'S196', 'S200', 'S204', 'S208', 'S212', 'S216', 'S220', 'S224', 'S228', 'S232', 'S236', 'S240', 'S244', 'S248', 'S249'): 'S39', ('S190', 'S192', 'S196', 'S200', 'S204', 'S208', 'S212', 'S216', 'S220', 'S224', 'S228', 'S232', 'S236', 'S240', 'S244', 'S248', 'S249'): 'S40', ('S186', 'S188', 'S192', 'S196', 'S200', 'S204', 'S208', 'S212', 'S216', 'S220', 'S224', 'S228', 'S232', 'S236', 'S240', 'S244', 'S248', 'S249'): 'S41', ('S182', 'S184', 'S188', 'S192', 'S196', 'S200', 'S204', 'S208', 'S212', 'S216', 'S220', 'S224', 'S228', 'S232', 'S236', 'S240', 'S244', 'S248', 'S249'): 'S42', ('S178', 'S180', 'S184', 'S188', 'S192', 'S196', 'S200', 'S204', 'S208', 'S212', 'S216', 'S220', 'S224', 'S228', 'S232', 'S236', 'S240', 'S244', 'S248', 'S249'): 'S43', ('S174', 'S176', 'S180', 'S184', 'S188', 'S192', 'S196', 'S200', 'S204', 'S208', 'S212', 'S216', 'S220', 'S224', 'S228', 'S232', 'S236', 'S240', 'S244', 'S248', 'S249'): 'S44', ('S100', 'S104', 'S108', 'S112', 'S116', 'S120', 'S124', 'S128', 'S132', 'S136', 'S140', 'S144', 'S148', 'S152', 'S156', 'S160', 'S164', 'S168', 'S172', 'S176', 'S18', 'S180', 'S184', 'S188', 'S192', 'S196', 'S20', 'S200', 'S204', 'S208', 'S212', 'S216', 'S220', 'S224', 'S228', 'S232', 'S236', 'S24', 'S240', 'S244', 'S248', 'S249', 'S28', 'S32', 'S36', 'S40', 'S44', 'S48', 'S52', 'S56', 'S60', 'S64', 'S68', 'S72', 'S76', 'S80', 'S84', 'S88', 'S92', 'S96'): 'S45', ('S170', 'S172', 'S176', 'S180', 'S184', 'S188', 'S192', 'S196', 'S200', 'S204', 'S208', 'S212', 'S216', 'S220', 'S224', 'S228', 'S232', 'S236', 'S240', 'S244', 'S248', 'S249'): 'S46', ('S166', 'S168', 'S172', 'S176', 'S180', 'S184', 'S188', 'S192', 'S196', 'S200', 'S204', 'S208', 'S212', 'S216', 'S220', 'S224', 'S228', 'S232', 'S236', 'S240', 'S244', 'S248', 'S249'): 'S47', ('S162', 'S164', 'S168', 'S172', 'S176', 'S180', 'S184', 'S188', 'S192', 'S196', 'S200', 'S204', 'S208', 'S212', 'S216', 'S220', 'S224', 'S228', 'S232', 'S236', 'S240', 'S244', 'S248', 'S249'): 'S48', ('S158', 'S160', 'S164', 'S168', 'S172', 'S176', 'S180', 'S184', 'S188', 'S192', 'S196', 'S200', 'S204', 'S208', 'S212', 'S216', 'S220', 'S224', 'S228', 'S232', 'S236', 'S240', 'S244', 'S248', 'S249'): 'S49', ('S154', 'S156', 'S160', 'S164', 'S168', 'S172', 'S176', 'S180', 'S184', 'S188', 'S192', 'S196', 'S200', 'S204', 'S208', 'S212', 'S216', 'S220', 'S224', 'S228', 'S232', 'S236', 'S240', 'S244', 'S248', 'S249'): 'S50', ('S150', 'S152', 'S156', 'S160', 'S164', 'S168', 'S172', 'S176', 'S180', 'S184', 'S188', 'S192', 'S196', 'S200', 'S204', 'S208', 'S212', 'S216', 'S220', 'S224', 'S228', 'S232', 'S236', 'S240', 'S244', 'S248', 'S249'): 'S51', ('S146', 'S148', 'S152', 'S156', 'S160', 'S164', 'S168', 'S172', 'S176', 'S180', 'S184', 'S188', 'S192', 'S196', 'S200', 'S204', 'S208', 'S212', 'S216', 'S220', 'S224', 'S228', 'S232', 'S236', 'S240', 'S244', 'S248', 'S249'): 'S52', ('S142', 'S144', 'S148', 'S152', 'S156', 'S160', 'S164', 'S168', 'S172', 'S176', 'S180', 'S184', 'S188', 'S192', 'S196', 'S200', 'S204', 'S208', 'S212', 'S216', 'S220', 'S224', 'S228', 'S232', 'S236', 'S240', 'S244', 'S248', 'S249'): 'S53', ('S138', 'S140', 'S144', 'S148', 'S152', 'S156', 'S160', 'S164', 'S168', 'S172', 'S176', 'S180', 'S184', 'S188', 'S192', 'S196', 'S200', 'S204', 'S208', 'S212', 'S216', 'S220', 'S224', 'S228', 'S232', 'S236', 'S240', 'S244', 'S248', 'S249'): 'S54', ('S134', 'S136', 'S140', 'S144', 'S148', 'S152', 'S156', 'S160', 'S164', 'S168', 'S172', 'S176', 'S180', 'S184', 'S188', 'S192', 'S196', 'S200', 'S204', 'S208', 'S212', 'S216', 'S220', 'S224', 'S228', 'S232', 'S236', 'S240', 'S244', 'S248', 'S249'): 'S55', ('S100', 'S104', 'S108', 'S112', 'S116', 'S120', 'S124', 'S128', 'S132', 'S136', 'S14', 'S140', 'S144', 'S148', 'S152', 'S156', 'S16', 'S160', 'S164', 'S168', 'S172', 'S176', 'S180', 'S184', 'S188', 'S192', 'S196', 'S20', 'S200', 'S204', 'S208', 'S212', 'S216', 'S220', 'S224', 'S228', 'S232', 'S236', 'S24', 'S240', 'S244', 'S248', 'S249', 'S28', 'S32', 'S36', 'S40', 'S44', 'S48', 'S52', 'S56', 'S60', 'S64', 'S68', 'S72', 'S76', 'S80', 'S84', 'S88', 'S92', 'S96'): 'S56', ('S130', 'S132', 'S136', 'S140', 'S144', 'S148', 'S152', 'S156', 'S160', 'S164', 'S168', 'S172', 'S176', 'S180', 'S184', 'S188', 'S192', 'S196', 'S200', 'S204', 'S208', 'S212', 'S216', 'S220', 'S224', 'S228', 'S232', 'S236', 'S240', 'S244', 'S248', 'S249'): 'S57', ('S126', 'S128', 'S132', 'S136', 'S140', 'S144', 'S148', 'S152', 'S156', 'S160', 'S164', 'S168', 'S172', 'S176', 'S180', 'S184', 'S188', 'S192', 'S196', 'S200', 'S204', 'S208', 'S212', 'S216', 'S220', 'S224', 'S228', 'S232', 'S236', 'S240', 'S244', 'S248', 'S249'): 'S58', ('S122', 'S124', 'S128', 'S132', 'S136', 'S140', 'S144', 'S148', 'S152', 'S156', 'S160', 'S164', 'S168', 'S172', 'S176', 'S180', 'S184', 'S188', 'S192', 'S196', 'S200', 'S204', 'S208', 'S212', 'S216', 'S220', 'S224', 'S228', 'S232', 'S236', 'S240', 'S244', 'S248', 'S249'): 'S59', ('S118', 'S120', 'S124', 'S128', 'S132', 'S136', 'S140', 'S144', 'S148', 'S152', 'S156', 'S160', 'S164', 'S168', 'S172', 'S176', 'S180', 'S184', 'S188', 'S192', 'S196', 'S200', 'S204', 'S208', 'S212', 'S216', 'S220', 'S224', 'S228', 'S232', 'S236', 'S240', 'S244', 'S248', 'S249'): 'S60', ('S114', 'S116', 'S120', 'S124', 'S128', 'S132', 'S136', 'S140', 'S144', 'S148', 'S152', 'S156', 'S160', 'S164', 'S168', 'S172', 'S176', 'S180', 'S184', 'S188', 'S192', 'S196', 'S200', 'S204', 'S208', 'S212', 'S216', 'S220', 'S224', 'S228', 'S232', 'S236', 'S240', 'S244', 'S248', 'S249'): 'S61', ('S110', 'S112', 'S116', 'S120', 'S124', 'S128', 'S132', 'S136', 'S140', 'S144', 'S148', 'S152', 'S156', 'S160', 'S164', 'S168', 'S172', 'S176', 'S180', 'S184', 'S188', 'S192', 'S196', 'S200', 'S204', 'S208', 'S212', 'S216', 'S220', 'S224', 'S228', 'S232', 'S236', 'S240', 'S244', 'S248', 'S249'): 'S62', ('S106', 'S108', 'S112', 'S116', 'S120', 'S124', 'S128', 'S132', 'S136', 'S140', 'S144', 'S148', 'S152', 'S156', 'S160', 'S164', 'S168', 'S172', 'S176', 'S180', 'S184', 'S188', 'S192', 'S196', 'S200', 'S204', 'S208', 'S212', 'S216', 'S220', 'S224', 'S228', 'S232', 'S236', 'S240', 'S244', 'S248', 'S249'): 'S63', ('S102', 'S104', 'S108', 'S112', 'S116', 'S120', 'S124', 'S128', 'S132', 'S136', 'S140', 'S144', 'S148', 'S152', 'S156', 'S160', 'S164', 'S168', 'S172', 'S176', 'S180', 'S184', 'S188', 'S192', 'S196', 'S200', 'S204', 'S208', 'S212', 'S216', 'S220', 'S224', 'S228', 'S232', 'S236', 'S240', 'S244', 'S248', 'S249'): 'S64'}\n",
      "{'startingState': 'S3', 'S0': {'isTerminatingState': True}, 'S1': {'isTerminatingState': False, 'z': 'S2', 'A': 'S2', 'B': 'S2', 'C': 'S2', 'D': 'S2', 'E': 'S2', 'F': 'S2', 'G': 'S2', 'd': 'S2', 'H': 'S2', 'I': 'S2', 'J': 'S2', 'K': 'S2', 'L': 'S2', 'M': 'S2', 'N': 'S2', 'O': 'S2', 'P': 'S2', 'Q': 'S2', 'e': 'S2', 'R': 'S2', 'S': 'S2', 'T': 'S2', 'U': 'S2', 'V': 'S2', 'W': 'S2', 'X': 'S2', 'Y': 'S2', 'Z': 'S2', '0': 'S2', 'f': 'S2', '1': 'S2', '2': 'S2', '3': 'S2', '4': 'S2', '5': 'S2', '6': 'S2', '7': 'S2', '8': 'S2', '9': 'S2', 'g': 'S2', 'h': 'S2', 'a': 'S2', 'i': 'S2', 'j': 'S2', 'k': 'S2', 'l': 'S2', 'm': 'S2', 'b': 'S2', 'n': 'S2', 'o': 'S2', 'p': 'S2', 'q': 'S2', 'r': 'S2', 's': 'S2', 't': 'S2', 'u': 'S2', 'v': 'S2', 'w': 'S2', 'c': 'S2', 'x': 'S2', 'y': 'S2'}, 'S2': {'isTerminatingState': False, 'b': 'S0'}, 'S3': {'isTerminatingState': False, 'a': 'S1'}}\n"
     ]
    }
   ],
   "source": [
    "# regex=\"a.b\"\n",
    "# get_all_regex_data(regex)"
   ]
  },
  {
   "cell_type": "code",
   "execution_count": 195,
   "metadata": {},
   "outputs": [
    {
     "name": "stdout",
     "output_type": "stream",
     "text": [
      "a++\n",
      "a++\n",
      "a++\n",
      "a++\n",
      "{('S1', 'S3', 'S5'): 'S0', ('S1', 'S2', 'S3', 'S4', 'S5', 'S6'): 'S1'}\n",
      "{'startingState': 'S1', 'S0': {'isTerminatingState': True, 'a': 'S0'}, 'S1': {'isTerminatingState': False, 'a': 'S0'}}\n"
     ]
    }
   ],
   "source": [
    "regex=\"a++\"\n",
    "get_all_regex_data(regex)"
   ]
  },
  {
   "cell_type": "code",
   "execution_count": 196,
   "metadata": {},
   "outputs": [
    {
     "name": "stdout",
     "output_type": "stream",
     "text": [
      "True\n"
     ]
    }
   ],
   "source": [
    "def get_next_char(text, index):\n",
    "    if index < len(text) - 1:\n",
    "        return text[index + 1]\n",
    "    else:\n",
    "        return None\n",
    "\n",
    "def get_previous_char(text, index):\n",
    "    if index > 0:\n",
    "        return text[index - 1]\n",
    "    else:\n",
    "        return None\n",
    "    \n",
    "def validate_regex(regex):\n",
    "    stack = []\n",
    "    opening_chars = \"([{\"\n",
    "    closing_chars = \")]}\"\n",
    "    pair_map = {\")\": \"(\", \"]\": \"[\", \"}\": \"{\"}\n",
    "    is_range = False\n",
    "    prev_char = None\n",
    "    for index,char in enumerate(regex):\n",
    "        if char.isalnum() or char  in (\".+*?|-\") or char in opening_chars or char in closing_chars :\n",
    "                    if char in (\"+?\") and ( get_previous_char(regex,index) is  None or  not  (get_previous_char(regex,index).isalnum() or get_previous_char(regex,index) in (')]}.?+*') )):\n",
    "                        return False\n",
    "                    if char in (\"*\") and ( get_previous_char(regex,index) is  None or  not  (get_previous_char(regex,index).isalnum() or get_previous_char(regex,index) in (')]}.') )):\n",
    "                        return False\n",
    "                    if char in (\"|\") and (( get_previous_char(regex,index)  is  None or  not  (get_previous_char(regex,index).isalnum() or get_previous_char(regex,index)  in ('.+*?})]'))) or (get_next_char(regex, index) is  None or  not  ( get_next_char(regex, index).isalnum() or get_next_char(regex, index)  in ('.+*?[{(') ))):\n",
    "                        return False\n",
    "                    if is_range and prev_char is not None and prev_char != \"-\" and char != \"-\":\n",
    "                        if char == \"]\" or ord(prev_char) >= ord(char) or prev_char == \"[\" or (prev_char.isupper() and not char.isupper()):\n",
    "                            return False\n",
    "                    prev_char=char\n",
    "                    if char in opening_chars:\n",
    "                        stack.append(char)\n",
    "                    elif char in closing_chars:\n",
    "                        if len(stack) == 0 or stack[-1] != pair_map[char]:\n",
    "                            return False\n",
    "                        stack.pop()\n",
    "                    elif char == \"-\":\n",
    "                        if stack[-1] != '[':\n",
    "                            return False\n",
    "                        is_range = True\n",
    "                        prev_char = regex[index-1]\n",
    "                    else:\n",
    "                        is_range = False\n",
    "\n",
    "                    if char in (\"+*?|()\") and (len(stack) >0 and stack[-1] == '['):\n",
    "                        return False\n",
    "                    if (char == ']' and get_previous_char(regex, index) == '[') or (char == ')' and get_previous_char(regex, index) == '('):\n",
    "                        return False\n",
    "        else :\n",
    "            return False    \n",
    "    return len(stack) == 0  \n",
    "\n",
    "print(validate_regex(\"a\"))\n",
    "# print(re.compile(\"[]\"))"
   ]
  }
 ],
 "metadata": {
  "kernelspec": {
   "display_name": "Python 3",
   "language": "python",
   "name": "python3"
  },
  "language_info": {
   "codemirror_mode": {
    "name": "ipython",
    "version": 3
   },
   "file_extension": ".py",
   "mimetype": "text/x-python",
   "name": "python",
   "nbconvert_exporter": "python",
   "pygments_lexer": "ipython3",
   "version": "3.9.13"
  }
 },
 "nbformat": 4,
 "nbformat_minor": 2
}
