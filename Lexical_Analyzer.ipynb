{
 "cells": [
  {
   "cell_type": "markdown",
   "metadata": {},
   "source": [
    "## imports"
   ]
  },
  {
   "cell_type": "code",
   "execution_count": 25,
   "metadata": {},
   "outputs": [],
   "source": [
    "import re\n",
    "\n",
    "alphanumeric='abcdefghijklmnopqrstuvwxyzABCDEFGHIJKLMNOPQRSTUVWXYZ0123456789'\n",
    "dot =  '('+('|'.join(alphanumeric))+')'\n",
    "\n",
    "# print(dot)\n"
   ]
  },
  {
   "cell_type": "markdown",
   "metadata": {},
   "source": [
    "# Regex to Postfix"
   ]
  },
  {
   "cell_type": "code",
   "execution_count": 30,
   "metadata": {},
   "outputs": [
    {
     "name": "stdout",
     "output_type": "stream",
     "text": [
      "A+B*.?CD|.\n"
     ]
    }
   ],
   "source": [
    "def validate_regex(regex):\n",
    "    try:\n",
    "       re.compile(regex)\n",
    "       return True\n",
    "    except:\n",
    "       return False \n",
    "    \n",
    "\n",
    "\n",
    "def concatenate(regex):\n",
    "    new_regex = \"\"\n",
    "    for i in range(len(regex)-1):\n",
    "        new_regex += regex[i] \n",
    "        if regex[i] in ['*','+','?',')',']'] and regex[i+1] not in ['*','+','?',')',']']:\n",
    "            new_regex+=\".\"\n",
    "        elif regex[i] in alphanumeric and  (regex[i+1] in alphanumeric or regex[i+1] in ['(','[']):\n",
    "            new_regex+=\".\"\n",
    "    \n",
    "    new_regex += regex[-1]\n",
    "\n",
    "    return new_regex\n",
    "\n",
    "\n",
    "\n",
    "def handle_range(regex):\n",
    "    new_regex = \"\"\n",
    "    replace = False\n",
    "    start = None\n",
    "    end= None\n",
    "    for i in range(len(regex)):\n",
    "        if regex[i] == '[':\n",
    "            new_regex += '('\n",
    "            replace =True\n",
    "        elif regex[i]== ']':\n",
    "             new_regex += ')'\n",
    "             replace =False\n",
    "        elif regex[i] == '-':\n",
    "            replace = True\n",
    "            start = alphanumeric.index(regex[i-1])\n",
    "            end = alphanumeric.index(regex[i+1])\n",
    "            for j in range(start+1,end):\n",
    "                new_regex += alphanumeric[j]\n",
    "                if(replace and regex[i+1] != ']'):\n",
    "                    new_regex+='|'\n",
    "        else:\n",
    "           new_regex += regex[i] \n",
    "           if(replace and regex[i+1] != ']'):\n",
    "                    new_regex+='|'\n",
    "\n",
    "\n",
    "    return new_regex  \n",
    "\n",
    "\n",
    "def handle_dot(regex):\n",
    "   return re.sub(r'\\.', dot, regex)\n",
    "\n",
    "\n",
    "def infix_to_postfix(regex):\n",
    "    queue = []\n",
    "    stack = []\n",
    "    operators={'(':0,\"|\":1, \".\":2, \"?\":3, \"+\":4, \"*\":5}\n",
    "\n",
    "    for i in range(len(regex)):\n",
    "        if regex[i] == '(':\n",
    "            stack.append(regex[i])\n",
    "        elif regex[i] == ')':\n",
    "            while stack[-1] != \"(\":  \n",
    "                queue.append(stack.pop()) \n",
    "            stack.pop()     \n",
    "        elif regex[i] in operators:\n",
    "            while stack  and operators[regex[i]] <= operators[stack[-1]]:\n",
    "                queue.append(stack.pop())\n",
    "            stack.append(regex[i])\n",
    "\n",
    "        else :\n",
    "            queue.append(regex[i])    \n",
    "    \n",
    "    while stack:\n",
    "        queue.append(stack.pop())\n",
    "\n",
    "    return ''.join(queue  )  \n",
    "\n",
    "\n",
    "    \n",
    "print(infix_to_postfix(\"(A+.B*)?.(C|D)\"))\n",
    "# print(handle_dot('.'))\n",
    "# print(handle_range(\"[a-z]+abc[Abc]*[1-5]\"))\n",
    "# print(concatenate(\"a+b*|c(5.f)\"))"
   ]
  },
  {
   "cell_type": "markdown",
   "metadata": {},
   "source": [
    "# Postfix to NFA"
   ]
  },
  {
   "cell_type": "code",
   "execution_count": null,
   "metadata": {},
   "outputs": [],
   "source": []
  },
  {
   "cell_type": "markdown",
   "metadata": {},
   "source": [
    "# NFA to DFA"
   ]
  },
  {
   "cell_type": "code",
   "execution_count": null,
   "metadata": {},
   "outputs": [],
   "source": []
  },
  {
   "cell_type": "markdown",
   "metadata": {},
   "source": [
    "# Minimized DFA"
   ]
  },
  {
   "cell_type": "code",
   "execution_count": null,
   "metadata": {},
   "outputs": [],
   "source": []
  }
 ],
 "metadata": {
  "kernelspec": {
   "display_name": "Python 3",
   "language": "python",
   "name": "python3"
  },
  "language_info": {
   "codemirror_mode": {
    "name": "ipython",
    "version": 3
   },
   "file_extension": ".py",
   "mimetype": "text/x-python",
   "name": "python",
   "nbconvert_exporter": "python",
   "pygments_lexer": "ipython3",
   "version": "3.9.12"
  }
 },
 "nbformat": 4,
 "nbformat_minor": 2
}
